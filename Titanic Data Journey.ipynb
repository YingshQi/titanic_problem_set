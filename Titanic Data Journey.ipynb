{
 "cells": [
  {
   "cell_type": "markdown",
   "id": "f7412b1e",
   "metadata": {
    "_cell_guid": "b1076dfc-b9ad-4769-8c92-a6c4dae69d19",
    "_uuid": "8f2839f25d086af736a60e9eeb907d3b93b6e0e5",
    "papermill": {
     "duration": 0.030327,
     "end_time": "2023-04-09T13:32:42.484011",
     "exception": false,
     "start_time": "2023-04-09T13:32:42.453684",
     "status": "completed"
    },
    "tags": []
   },
   "source": [
    "# Introduction\n",
    "\n",
    "\n"
   ]
  },
  {
   "cell_type": "markdown",
   "id": "5c2ad415",
   "metadata": {
    "papermill": {
     "duration": 0.028031,
     "end_time": "2023-04-09T13:32:42.542918",
     "exception": false,
     "start_time": "2023-04-09T13:32:42.514887",
     "status": "completed"
    },
    "tags": []
   },
   "source": [
    "# Prepare for analysis"
   ]
  },
  {
   "cell_type": "markdown",
   "id": "50df0fc0",
   "metadata": {
    "papermill": {
     "duration": 0.028674,
     "end_time": "2023-04-09T13:32:42.600096",
     "exception": false,
     "start_time": "2023-04-09T13:32:42.571422",
     "status": "completed"
    },
    "tags": []
   },
   "source": [
    "## Load packages"
   ]
  },
  {
   "cell_type": "code",
   "execution_count": 5,
   "id": "fa7d1e62",
   "metadata": {
    "execution": {
     "iopub.execute_input": "2023-04-09T13:32:42.658631Z",
     "iopub.status.busy": "2023-04-09T13:32:42.658243Z",
     "iopub.status.idle": "2023-04-09T13:32:43.844858Z",
     "shell.execute_reply": "2023-04-09T13:32:43.843860Z"
    },
    "papermill": {
     "duration": 1.219251,
     "end_time": "2023-04-09T13:32:43.847758",
     "exception": false,
     "start_time": "2023-04-09T13:32:42.628507",
     "status": "completed"
    },
    "tags": []
   },
   "outputs": [
    {
     "name": "stderr",
     "output_type": "stream",
     "text": [
      "Matplotlib is building the font cache; this may take a moment.\n"
     ]
    }
   ],
   "source": [
    "import pandas as pd\n",
    "import numpy as np\n",
    "from pathlib import Path\n",
    "import matplotlib.pyplot as plt\n",
    "from matplotlib.colors import ListedColormap\n",
    "import seaborn as sns\n",
    "from wordcloud import WordCloud, STOPWORDS\n",
    "\n",
    "from sklearn.model_selection import train_test_split\n",
    "from sklearn import metrics\n",
    "from sklearn.metrics import roc_auc_score\n",
    "from sklearn.ensemble import RandomForestClassifier"
   ]
  },
  {
   "cell_type": "code",
   "execution_count": null,
   "id": "dd0702d2",
   "metadata": {},
   "outputs": [],
   "source": [
    "!pip install pandas scikit-learn wordcloud seaborn\n"
   ]
  },
  {
   "cell_type": "code",
   "execution_count": 6,
   "id": "5c63da5c",
   "metadata": {},
   "outputs": [],
   "source": [
    "# TODO: Add all hard coded parameters like file paths or model parameters here\n",
    "TRAIN_PATH = \"train.csv\""
   ]
  },
  {
   "cell_type": "markdown",
   "id": "03f839a8",
   "metadata": {
    "papermill": {
     "duration": 0.028234,
     "end_time": "2023-04-09T13:32:43.904366",
     "exception": false,
     "start_time": "2023-04-09T13:32:43.876132",
     "status": "completed"
    },
    "tags": []
   },
   "source": [
    "## Read the data"
   ]
  },
  {
   "cell_type": "code",
   "execution_count": 7,
   "id": "f06e7866",
   "metadata": {
    "execution": {
     "iopub.execute_input": "2023-04-09T13:32:43.963330Z",
     "iopub.status.busy": "2023-04-09T13:32:43.962934Z",
     "iopub.status.idle": "2023-04-09T13:32:43.993431Z",
     "shell.execute_reply": "2023-04-09T13:32:43.992254Z"
    },
    "papermill": {
     "duration": 0.063255,
     "end_time": "2023-04-09T13:32:43.996250",
     "exception": false,
     "start_time": "2023-04-09T13:32:43.932995",
     "status": "completed"
    },
    "tags": []
   },
   "outputs": [],
   "source": [
    "train_df = pd.read_csv(TRAIN_PATH)\n",
    "\n",
    "# TODO: Put the path at the top of the script and replace with variable\n",
    "test_df = pd.read_csv(\"test.csv\")"
   ]
  },
  {
   "cell_type": "markdown",
   "id": "629f60bc",
   "metadata": {
    "papermill": {
     "duration": 0.028027,
     "end_time": "2023-04-09T13:32:44.052623",
     "exception": false,
     "start_time": "2023-04-09T13:32:44.024596",
     "status": "completed"
    },
    "tags": []
   },
   "source": [
    "# Preliminary data inspection"
   ]
  },
  {
   "cell_type": "markdown",
   "id": "26354e31",
   "metadata": {
    "papermill": {
     "duration": 0.028388,
     "end_time": "2023-04-09T13:32:44.110277",
     "exception": false,
     "start_time": "2023-04-09T13:32:44.081889",
     "status": "completed"
    },
    "tags": []
   },
   "source": [
    "## Quick glimpse of the data\n",
    "TODO: Think if you can abstract away much here."
   ]
  },
  {
   "cell_type": "code",
   "execution_count": 8,
   "id": "d80c7cf0",
   "metadata": {
    "execution": {
     "iopub.execute_input": "2023-04-09T13:32:44.169495Z",
     "iopub.status.busy": "2023-04-09T13:32:44.168457Z",
     "iopub.status.idle": "2023-04-09T13:32:44.199987Z",
     "shell.execute_reply": "2023-04-09T13:32:44.198640Z"
    },
    "papermill": {
     "duration": 0.06465,
     "end_time": "2023-04-09T13:32:44.203227",
     "exception": false,
     "start_time": "2023-04-09T13:32:44.138577",
     "status": "completed"
    },
    "tags": []
   },
   "outputs": [
    {
     "data": {
      "text/html": [
       "<div>\n",
       "<style scoped>\n",
       "    .dataframe tbody tr th:only-of-type {\n",
       "        vertical-align: middle;\n",
       "    }\n",
       "\n",
       "    .dataframe tbody tr th {\n",
       "        vertical-align: top;\n",
       "    }\n",
       "\n",
       "    .dataframe thead th {\n",
       "        text-align: right;\n",
       "    }\n",
       "</style>\n",
       "<table border=\"1\" class=\"dataframe\">\n",
       "  <thead>\n",
       "    <tr style=\"text-align: right;\">\n",
       "      <th></th>\n",
       "      <th>PassengerId</th>\n",
       "      <th>Survived</th>\n",
       "      <th>Pclass</th>\n",
       "      <th>Name</th>\n",
       "      <th>Sex</th>\n",
       "      <th>Age</th>\n",
       "      <th>SibSp</th>\n",
       "      <th>Parch</th>\n",
       "      <th>Ticket</th>\n",
       "      <th>Fare</th>\n",
       "      <th>Cabin</th>\n",
       "      <th>Embarked</th>\n",
       "    </tr>\n",
       "  </thead>\n",
       "  <tbody>\n",
       "    <tr>\n",
       "      <th>0</th>\n",
       "      <td>1</td>\n",
       "      <td>0</td>\n",
       "      <td>3</td>\n",
       "      <td>Braund, Mr. Owen Harris</td>\n",
       "      <td>male</td>\n",
       "      <td>22.0</td>\n",
       "      <td>1</td>\n",
       "      <td>0</td>\n",
       "      <td>A/5 21171</td>\n",
       "      <td>7.2500</td>\n",
       "      <td>NaN</td>\n",
       "      <td>S</td>\n",
       "    </tr>\n",
       "    <tr>\n",
       "      <th>1</th>\n",
       "      <td>2</td>\n",
       "      <td>1</td>\n",
       "      <td>1</td>\n",
       "      <td>Cumings, Mrs. John Bradley (Florence Briggs Th...</td>\n",
       "      <td>female</td>\n",
       "      <td>38.0</td>\n",
       "      <td>1</td>\n",
       "      <td>0</td>\n",
       "      <td>PC 17599</td>\n",
       "      <td>71.2833</td>\n",
       "      <td>C85</td>\n",
       "      <td>C</td>\n",
       "    </tr>\n",
       "    <tr>\n",
       "      <th>2</th>\n",
       "      <td>3</td>\n",
       "      <td>1</td>\n",
       "      <td>3</td>\n",
       "      <td>Heikkinen, Miss. Laina</td>\n",
       "      <td>female</td>\n",
       "      <td>26.0</td>\n",
       "      <td>0</td>\n",
       "      <td>0</td>\n",
       "      <td>STON/O2. 3101282</td>\n",
       "      <td>7.9250</td>\n",
       "      <td>NaN</td>\n",
       "      <td>S</td>\n",
       "    </tr>\n",
       "    <tr>\n",
       "      <th>3</th>\n",
       "      <td>4</td>\n",
       "      <td>1</td>\n",
       "      <td>1</td>\n",
       "      <td>Futrelle, Mrs. Jacques Heath (Lily May Peel)</td>\n",
       "      <td>female</td>\n",
       "      <td>35.0</td>\n",
       "      <td>1</td>\n",
       "      <td>0</td>\n",
       "      <td>113803</td>\n",
       "      <td>53.1000</td>\n",
       "      <td>C123</td>\n",
       "      <td>S</td>\n",
       "    </tr>\n",
       "    <tr>\n",
       "      <th>4</th>\n",
       "      <td>5</td>\n",
       "      <td>0</td>\n",
       "      <td>3</td>\n",
       "      <td>Allen, Mr. William Henry</td>\n",
       "      <td>male</td>\n",
       "      <td>35.0</td>\n",
       "      <td>0</td>\n",
       "      <td>0</td>\n",
       "      <td>373450</td>\n",
       "      <td>8.0500</td>\n",
       "      <td>NaN</td>\n",
       "      <td>S</td>\n",
       "    </tr>\n",
       "  </tbody>\n",
       "</table>\n",
       "</div>"
      ],
      "text/plain": [
       "   PassengerId  Survived  Pclass  \\\n",
       "0            1         0       3   \n",
       "1            2         1       1   \n",
       "2            3         1       3   \n",
       "3            4         1       1   \n",
       "4            5         0       3   \n",
       "\n",
       "                                                Name     Sex   Age  SibSp  \\\n",
       "0                            Braund, Mr. Owen Harris    male  22.0      1   \n",
       "1  Cumings, Mrs. John Bradley (Florence Briggs Th...  female  38.0      1   \n",
       "2                             Heikkinen, Miss. Laina  female  26.0      0   \n",
       "3       Futrelle, Mrs. Jacques Heath (Lily May Peel)  female  35.0      1   \n",
       "4                           Allen, Mr. William Henry    male  35.0      0   \n",
       "\n",
       "   Parch            Ticket     Fare Cabin Embarked  \n",
       "0      0         A/5 21171   7.2500   NaN        S  \n",
       "1      0          PC 17599  71.2833   C85        C  \n",
       "2      0  STON/O2. 3101282   7.9250   NaN        S  \n",
       "3      0            113803  53.1000  C123        S  \n",
       "4      0            373450   8.0500   NaN        S  "
      ]
     },
     "execution_count": 8,
     "metadata": {},
     "output_type": "execute_result"
    }
   ],
   "source": [
    "train_df.head()"
   ]
  },
  {
   "cell_type": "code",
   "execution_count": 9,
   "id": "2ae57c32",
   "metadata": {
    "execution": {
     "iopub.execute_input": "2023-04-09T13:32:44.262736Z",
     "iopub.status.busy": "2023-04-09T13:32:44.262340Z",
     "iopub.status.idle": "2023-04-09T13:32:44.279048Z",
     "shell.execute_reply": "2023-04-09T13:32:44.277660Z"
    },
    "papermill": {
     "duration": 0.049372,
     "end_time": "2023-04-09T13:32:44.281443",
     "exception": false,
     "start_time": "2023-04-09T13:32:44.232071",
     "status": "completed"
    },
    "tags": []
   },
   "outputs": [
    {
     "data": {
      "text/html": [
       "<div>\n",
       "<style scoped>\n",
       "    .dataframe tbody tr th:only-of-type {\n",
       "        vertical-align: middle;\n",
       "    }\n",
       "\n",
       "    .dataframe tbody tr th {\n",
       "        vertical-align: top;\n",
       "    }\n",
       "\n",
       "    .dataframe thead th {\n",
       "        text-align: right;\n",
       "    }\n",
       "</style>\n",
       "<table border=\"1\" class=\"dataframe\">\n",
       "  <thead>\n",
       "    <tr style=\"text-align: right;\">\n",
       "      <th></th>\n",
       "      <th>PassengerId</th>\n",
       "      <th>Pclass</th>\n",
       "      <th>Name</th>\n",
       "      <th>Sex</th>\n",
       "      <th>Age</th>\n",
       "      <th>SibSp</th>\n",
       "      <th>Parch</th>\n",
       "      <th>Ticket</th>\n",
       "      <th>Fare</th>\n",
       "      <th>Cabin</th>\n",
       "      <th>Embarked</th>\n",
       "    </tr>\n",
       "  </thead>\n",
       "  <tbody>\n",
       "    <tr>\n",
       "      <th>0</th>\n",
       "      <td>892</td>\n",
       "      <td>3</td>\n",
       "      <td>Kelly, Mr. James</td>\n",
       "      <td>male</td>\n",
       "      <td>34.5</td>\n",
       "      <td>0</td>\n",
       "      <td>0</td>\n",
       "      <td>330911</td>\n",
       "      <td>7.8292</td>\n",
       "      <td>NaN</td>\n",
       "      <td>Q</td>\n",
       "    </tr>\n",
       "    <tr>\n",
       "      <th>1</th>\n",
       "      <td>893</td>\n",
       "      <td>3</td>\n",
       "      <td>Wilkes, Mrs. James (Ellen Needs)</td>\n",
       "      <td>female</td>\n",
       "      <td>47.0</td>\n",
       "      <td>1</td>\n",
       "      <td>0</td>\n",
       "      <td>363272</td>\n",
       "      <td>7.0000</td>\n",
       "      <td>NaN</td>\n",
       "      <td>S</td>\n",
       "    </tr>\n",
       "    <tr>\n",
       "      <th>2</th>\n",
       "      <td>894</td>\n",
       "      <td>2</td>\n",
       "      <td>Myles, Mr. Thomas Francis</td>\n",
       "      <td>male</td>\n",
       "      <td>62.0</td>\n",
       "      <td>0</td>\n",
       "      <td>0</td>\n",
       "      <td>240276</td>\n",
       "      <td>9.6875</td>\n",
       "      <td>NaN</td>\n",
       "      <td>Q</td>\n",
       "    </tr>\n",
       "    <tr>\n",
       "      <th>3</th>\n",
       "      <td>895</td>\n",
       "      <td>3</td>\n",
       "      <td>Wirz, Mr. Albert</td>\n",
       "      <td>male</td>\n",
       "      <td>27.0</td>\n",
       "      <td>0</td>\n",
       "      <td>0</td>\n",
       "      <td>315154</td>\n",
       "      <td>8.6625</td>\n",
       "      <td>NaN</td>\n",
       "      <td>S</td>\n",
       "    </tr>\n",
       "    <tr>\n",
       "      <th>4</th>\n",
       "      <td>896</td>\n",
       "      <td>3</td>\n",
       "      <td>Hirvonen, Mrs. Alexander (Helga E Lindqvist)</td>\n",
       "      <td>female</td>\n",
       "      <td>22.0</td>\n",
       "      <td>1</td>\n",
       "      <td>1</td>\n",
       "      <td>3101298</td>\n",
       "      <td>12.2875</td>\n",
       "      <td>NaN</td>\n",
       "      <td>S</td>\n",
       "    </tr>\n",
       "  </tbody>\n",
       "</table>\n",
       "</div>"
      ],
      "text/plain": [
       "   PassengerId  Pclass                                          Name     Sex  \\\n",
       "0          892       3                              Kelly, Mr. James    male   \n",
       "1          893       3              Wilkes, Mrs. James (Ellen Needs)  female   \n",
       "2          894       2                     Myles, Mr. Thomas Francis    male   \n",
       "3          895       3                              Wirz, Mr. Albert    male   \n",
       "4          896       3  Hirvonen, Mrs. Alexander (Helga E Lindqvist)  female   \n",
       "\n",
       "    Age  SibSp  Parch   Ticket     Fare Cabin Embarked  \n",
       "0  34.5      0      0   330911   7.8292   NaN        Q  \n",
       "1  47.0      1      0   363272   7.0000   NaN        S  \n",
       "2  62.0      0      0   240276   9.6875   NaN        Q  \n",
       "3  27.0      0      0   315154   8.6625   NaN        S  \n",
       "4  22.0      1      1  3101298  12.2875   NaN        S  "
      ]
     },
     "execution_count": 9,
     "metadata": {},
     "output_type": "execute_result"
    }
   ],
   "source": [
    "test_df.head()"
   ]
  },
  {
   "cell_type": "code",
   "execution_count": 10,
   "id": "bc9caf0f",
   "metadata": {
    "execution": {
     "iopub.execute_input": "2023-04-09T13:32:44.340970Z",
     "iopub.status.busy": "2023-04-09T13:32:44.340538Z",
     "iopub.status.idle": "2023-04-09T13:32:44.365388Z",
     "shell.execute_reply": "2023-04-09T13:32:44.364117Z"
    },
    "papermill": {
     "duration": 0.05775,
     "end_time": "2023-04-09T13:32:44.368073",
     "exception": false,
     "start_time": "2023-04-09T13:32:44.310323",
     "status": "completed"
    },
    "tags": []
   },
   "outputs": [
    {
     "name": "stdout",
     "output_type": "stream",
     "text": [
      "<class 'pandas.core.frame.DataFrame'>\n",
      "RangeIndex: 891 entries, 0 to 890\n",
      "Data columns (total 12 columns):\n",
      " #   Column       Non-Null Count  Dtype  \n",
      "---  ------       --------------  -----  \n",
      " 0   PassengerId  891 non-null    int64  \n",
      " 1   Survived     891 non-null    int64  \n",
      " 2   Pclass       891 non-null    int64  \n",
      " 3   Name         891 non-null    object \n",
      " 4   Sex          891 non-null    object \n",
      " 5   Age          714 non-null    float64\n",
      " 6   SibSp        891 non-null    int64  \n",
      " 7   Parch        891 non-null    int64  \n",
      " 8   Ticket       891 non-null    object \n",
      " 9   Fare         891 non-null    float64\n",
      " 10  Cabin        204 non-null    object \n",
      " 11  Embarked     889 non-null    object \n",
      "dtypes: float64(2), int64(5), object(5)\n",
      "memory usage: 83.7+ KB\n"
     ]
    }
   ],
   "source": [
    "train_df.info()"
   ]
  },
  {
   "cell_type": "code",
   "execution_count": 11,
   "id": "dd509493",
   "metadata": {
    "execution": {
     "iopub.execute_input": "2023-04-09T13:32:44.428455Z",
     "iopub.status.busy": "2023-04-09T13:32:44.428047Z",
     "iopub.status.idle": "2023-04-09T13:32:44.442892Z",
     "shell.execute_reply": "2023-04-09T13:32:44.441210Z"
    },
    "papermill": {
     "duration": 0.048578,
     "end_time": "2023-04-09T13:32:44.445514",
     "exception": false,
     "start_time": "2023-04-09T13:32:44.396936",
     "status": "completed"
    },
    "tags": []
   },
   "outputs": [
    {
     "name": "stdout",
     "output_type": "stream",
     "text": [
      "<class 'pandas.core.frame.DataFrame'>\n",
      "RangeIndex: 418 entries, 0 to 417\n",
      "Data columns (total 11 columns):\n",
      " #   Column       Non-Null Count  Dtype  \n",
      "---  ------       --------------  -----  \n",
      " 0   PassengerId  418 non-null    int64  \n",
      " 1   Pclass       418 non-null    int64  \n",
      " 2   Name         418 non-null    object \n",
      " 3   Sex          418 non-null    object \n",
      " 4   Age          332 non-null    float64\n",
      " 5   SibSp        418 non-null    int64  \n",
      " 6   Parch        418 non-null    int64  \n",
      " 7   Ticket       418 non-null    object \n",
      " 8   Fare         417 non-null    float64\n",
      " 9   Cabin        91 non-null     object \n",
      " 10  Embarked     418 non-null    object \n",
      "dtypes: float64(2), int64(4), object(5)\n",
      "memory usage: 36.0+ KB\n"
     ]
    }
   ],
   "source": [
    "test_df.info()"
   ]
  },
  {
   "cell_type": "code",
   "execution_count": 12,
   "id": "1d25a33b",
   "metadata": {
    "execution": {
     "iopub.execute_input": "2023-04-09T13:32:44.507385Z",
     "iopub.status.busy": "2023-04-09T13:32:44.506106Z",
     "iopub.status.idle": "2023-04-09T13:32:44.545280Z",
     "shell.execute_reply": "2023-04-09T13:32:44.543818Z"
    },
    "papermill": {
     "duration": 0.073749,
     "end_time": "2023-04-09T13:32:44.548724",
     "exception": false,
     "start_time": "2023-04-09T13:32:44.474975",
     "status": "completed"
    },
    "tags": []
   },
   "outputs": [
    {
     "data": {
      "text/html": [
       "<div>\n",
       "<style scoped>\n",
       "    .dataframe tbody tr th:only-of-type {\n",
       "        vertical-align: middle;\n",
       "    }\n",
       "\n",
       "    .dataframe tbody tr th {\n",
       "        vertical-align: top;\n",
       "    }\n",
       "\n",
       "    .dataframe thead th {\n",
       "        text-align: right;\n",
       "    }\n",
       "</style>\n",
       "<table border=\"1\" class=\"dataframe\">\n",
       "  <thead>\n",
       "    <tr style=\"text-align: right;\">\n",
       "      <th></th>\n",
       "      <th>PassengerId</th>\n",
       "      <th>Survived</th>\n",
       "      <th>Pclass</th>\n",
       "      <th>Age</th>\n",
       "      <th>SibSp</th>\n",
       "      <th>Parch</th>\n",
       "      <th>Fare</th>\n",
       "    </tr>\n",
       "  </thead>\n",
       "  <tbody>\n",
       "    <tr>\n",
       "      <th>count</th>\n",
       "      <td>891.000000</td>\n",
       "      <td>891.000000</td>\n",
       "      <td>891.000000</td>\n",
       "      <td>714.000000</td>\n",
       "      <td>891.000000</td>\n",
       "      <td>891.000000</td>\n",
       "      <td>891.000000</td>\n",
       "    </tr>\n",
       "    <tr>\n",
       "      <th>mean</th>\n",
       "      <td>446.000000</td>\n",
       "      <td>0.383838</td>\n",
       "      <td>2.308642</td>\n",
       "      <td>29.699118</td>\n",
       "      <td>0.523008</td>\n",
       "      <td>0.381594</td>\n",
       "      <td>32.204208</td>\n",
       "    </tr>\n",
       "    <tr>\n",
       "      <th>std</th>\n",
       "      <td>257.353842</td>\n",
       "      <td>0.486592</td>\n",
       "      <td>0.836071</td>\n",
       "      <td>14.526497</td>\n",
       "      <td>1.102743</td>\n",
       "      <td>0.806057</td>\n",
       "      <td>49.693429</td>\n",
       "    </tr>\n",
       "    <tr>\n",
       "      <th>min</th>\n",
       "      <td>1.000000</td>\n",
       "      <td>0.000000</td>\n",
       "      <td>1.000000</td>\n",
       "      <td>0.420000</td>\n",
       "      <td>0.000000</td>\n",
       "      <td>0.000000</td>\n",
       "      <td>0.000000</td>\n",
       "    </tr>\n",
       "    <tr>\n",
       "      <th>25%</th>\n",
       "      <td>223.500000</td>\n",
       "      <td>0.000000</td>\n",
       "      <td>2.000000</td>\n",
       "      <td>20.125000</td>\n",
       "      <td>0.000000</td>\n",
       "      <td>0.000000</td>\n",
       "      <td>7.910400</td>\n",
       "    </tr>\n",
       "    <tr>\n",
       "      <th>50%</th>\n",
       "      <td>446.000000</td>\n",
       "      <td>0.000000</td>\n",
       "      <td>3.000000</td>\n",
       "      <td>28.000000</td>\n",
       "      <td>0.000000</td>\n",
       "      <td>0.000000</td>\n",
       "      <td>14.454200</td>\n",
       "    </tr>\n",
       "    <tr>\n",
       "      <th>75%</th>\n",
       "      <td>668.500000</td>\n",
       "      <td>1.000000</td>\n",
       "      <td>3.000000</td>\n",
       "      <td>38.000000</td>\n",
       "      <td>1.000000</td>\n",
       "      <td>0.000000</td>\n",
       "      <td>31.000000</td>\n",
       "    </tr>\n",
       "    <tr>\n",
       "      <th>max</th>\n",
       "      <td>891.000000</td>\n",
       "      <td>1.000000</td>\n",
       "      <td>3.000000</td>\n",
       "      <td>80.000000</td>\n",
       "      <td>8.000000</td>\n",
       "      <td>6.000000</td>\n",
       "      <td>512.329200</td>\n",
       "    </tr>\n",
       "  </tbody>\n",
       "</table>\n",
       "</div>"
      ],
      "text/plain": [
       "       PassengerId    Survived      Pclass         Age       SibSp  \\\n",
       "count   891.000000  891.000000  891.000000  714.000000  891.000000   \n",
       "mean    446.000000    0.383838    2.308642   29.699118    0.523008   \n",
       "std     257.353842    0.486592    0.836071   14.526497    1.102743   \n",
       "min       1.000000    0.000000    1.000000    0.420000    0.000000   \n",
       "25%     223.500000    0.000000    2.000000   20.125000    0.000000   \n",
       "50%     446.000000    0.000000    3.000000   28.000000    0.000000   \n",
       "75%     668.500000    1.000000    3.000000   38.000000    1.000000   \n",
       "max     891.000000    1.000000    3.000000   80.000000    8.000000   \n",
       "\n",
       "            Parch        Fare  \n",
       "count  891.000000  891.000000  \n",
       "mean     0.381594   32.204208  \n",
       "std      0.806057   49.693429  \n",
       "min      0.000000    0.000000  \n",
       "25%      0.000000    7.910400  \n",
       "50%      0.000000   14.454200  \n",
       "75%      0.000000   31.000000  \n",
       "max      6.000000  512.329200  "
      ]
     },
     "execution_count": 12,
     "metadata": {},
     "output_type": "execute_result"
    }
   ],
   "source": [
    "train_df.describe()"
   ]
  },
  {
   "cell_type": "code",
   "execution_count": 13,
   "id": "f3af70a6",
   "metadata": {
    "execution": {
     "iopub.execute_input": "2023-04-09T13:32:44.612980Z",
     "iopub.status.busy": "2023-04-09T13:32:44.612542Z",
     "iopub.status.idle": "2023-04-09T13:32:44.643947Z",
     "shell.execute_reply": "2023-04-09T13:32:44.642555Z"
    },
    "papermill": {
     "duration": 0.066018,
     "end_time": "2023-04-09T13:32:44.646541",
     "exception": false,
     "start_time": "2023-04-09T13:32:44.580523",
     "status": "completed"
    },
    "tags": []
   },
   "outputs": [
    {
     "data": {
      "text/html": [
       "<div>\n",
       "<style scoped>\n",
       "    .dataframe tbody tr th:only-of-type {\n",
       "        vertical-align: middle;\n",
       "    }\n",
       "\n",
       "    .dataframe tbody tr th {\n",
       "        vertical-align: top;\n",
       "    }\n",
       "\n",
       "    .dataframe thead th {\n",
       "        text-align: right;\n",
       "    }\n",
       "</style>\n",
       "<table border=\"1\" class=\"dataframe\">\n",
       "  <thead>\n",
       "    <tr style=\"text-align: right;\">\n",
       "      <th></th>\n",
       "      <th>PassengerId</th>\n",
       "      <th>Pclass</th>\n",
       "      <th>Age</th>\n",
       "      <th>SibSp</th>\n",
       "      <th>Parch</th>\n",
       "      <th>Fare</th>\n",
       "    </tr>\n",
       "  </thead>\n",
       "  <tbody>\n",
       "    <tr>\n",
       "      <th>count</th>\n",
       "      <td>418.000000</td>\n",
       "      <td>418.000000</td>\n",
       "      <td>332.000000</td>\n",
       "      <td>418.000000</td>\n",
       "      <td>418.000000</td>\n",
       "      <td>417.000000</td>\n",
       "    </tr>\n",
       "    <tr>\n",
       "      <th>mean</th>\n",
       "      <td>1100.500000</td>\n",
       "      <td>2.265550</td>\n",
       "      <td>30.272590</td>\n",
       "      <td>0.447368</td>\n",
       "      <td>0.392344</td>\n",
       "      <td>35.627188</td>\n",
       "    </tr>\n",
       "    <tr>\n",
       "      <th>std</th>\n",
       "      <td>120.810458</td>\n",
       "      <td>0.841838</td>\n",
       "      <td>14.181209</td>\n",
       "      <td>0.896760</td>\n",
       "      <td>0.981429</td>\n",
       "      <td>55.907576</td>\n",
       "    </tr>\n",
       "    <tr>\n",
       "      <th>min</th>\n",
       "      <td>892.000000</td>\n",
       "      <td>1.000000</td>\n",
       "      <td>0.170000</td>\n",
       "      <td>0.000000</td>\n",
       "      <td>0.000000</td>\n",
       "      <td>0.000000</td>\n",
       "    </tr>\n",
       "    <tr>\n",
       "      <th>25%</th>\n",
       "      <td>996.250000</td>\n",
       "      <td>1.000000</td>\n",
       "      <td>21.000000</td>\n",
       "      <td>0.000000</td>\n",
       "      <td>0.000000</td>\n",
       "      <td>7.895800</td>\n",
       "    </tr>\n",
       "    <tr>\n",
       "      <th>50%</th>\n",
       "      <td>1100.500000</td>\n",
       "      <td>3.000000</td>\n",
       "      <td>27.000000</td>\n",
       "      <td>0.000000</td>\n",
       "      <td>0.000000</td>\n",
       "      <td>14.454200</td>\n",
       "    </tr>\n",
       "    <tr>\n",
       "      <th>75%</th>\n",
       "      <td>1204.750000</td>\n",
       "      <td>3.000000</td>\n",
       "      <td>39.000000</td>\n",
       "      <td>1.000000</td>\n",
       "      <td>0.000000</td>\n",
       "      <td>31.500000</td>\n",
       "    </tr>\n",
       "    <tr>\n",
       "      <th>max</th>\n",
       "      <td>1309.000000</td>\n",
       "      <td>3.000000</td>\n",
       "      <td>76.000000</td>\n",
       "      <td>8.000000</td>\n",
       "      <td>9.000000</td>\n",
       "      <td>512.329200</td>\n",
       "    </tr>\n",
       "  </tbody>\n",
       "</table>\n",
       "</div>"
      ],
      "text/plain": [
       "       PassengerId      Pclass         Age       SibSp       Parch        Fare\n",
       "count   418.000000  418.000000  332.000000  418.000000  418.000000  417.000000\n",
       "mean   1100.500000    2.265550   30.272590    0.447368    0.392344   35.627188\n",
       "std     120.810458    0.841838   14.181209    0.896760    0.981429   55.907576\n",
       "min     892.000000    1.000000    0.170000    0.000000    0.000000    0.000000\n",
       "25%     996.250000    1.000000   21.000000    0.000000    0.000000    7.895800\n",
       "50%    1100.500000    3.000000   27.000000    0.000000    0.000000   14.454200\n",
       "75%    1204.750000    3.000000   39.000000    1.000000    0.000000   31.500000\n",
       "max    1309.000000    3.000000   76.000000    8.000000    9.000000  512.329200"
      ]
     },
     "execution_count": 13,
     "metadata": {},
     "output_type": "execute_result"
    }
   ],
   "source": [
    "test_df.describe()"
   ]
  },
  {
   "cell_type": "markdown",
   "id": "fb886bb0",
   "metadata": {
    "papermill": {
     "duration": 0.029351,
     "end_time": "2023-04-09T13:32:44.706536",
     "exception": false,
     "start_time": "2023-04-09T13:32:44.677185",
     "status": "completed"
    },
    "tags": []
   },
   "source": [
    "## Few statistics on the data"
   ]
  },
  {
   "cell_type": "markdown",
   "id": "5b97cad3",
   "metadata": {
    "papermill": {
     "duration": 0.029214,
     "end_time": "2023-04-09T13:32:44.766549",
     "exception": false,
     "start_time": "2023-04-09T13:32:44.737335",
     "status": "completed"
    },
    "tags": []
   },
   "source": [
    "### Missing data"
   ]
  },
  {
   "cell_type": "code",
   "execution_count": 14,
   "id": "9d0dd3ec",
   "metadata": {
    "execution": {
     "iopub.execute_input": "2023-04-09T13:32:44.898581Z",
     "iopub.status.busy": "2023-04-09T13:32:44.897545Z",
     "iopub.status.idle": "2023-04-09T13:32:44.920932Z",
     "shell.execute_reply": "2023-04-09T13:32:44.919700Z"
    },
    "papermill": {
     "duration": 0.057738,
     "end_time": "2023-04-09T13:32:44.924016",
     "exception": false,
     "start_time": "2023-04-09T13:32:44.866278",
     "status": "completed"
    },
    "tags": []
   },
   "outputs": [],
   "source": [
    "# TODO: turn into function\n",
    "total = train_df.isnull().sum()\n",
    "percent = (train_df.isnull().sum()/train_df.isnull().count()*100)\n",
    "tt = pd.concat([total, percent], axis=1, keys=['Total', 'Percent'])\n",
    "types = []\n",
    "for col in train_df.columns:\n",
    "    dtype = str(train_df[col].dtype)\n",
    "    types.append(dtype)\n",
    "tt['Types'] = types\n",
    "df_missing_train = np.transpose(tt)"
   ]
  },
  {
   "cell_type": "code",
   "execution_count": 15,
   "id": "c372cbd4",
   "metadata": {
    "execution": {
     "iopub.execute_input": "2023-04-09T13:32:44.986374Z",
     "iopub.status.busy": "2023-04-09T13:32:44.985655Z",
     "iopub.status.idle": "2023-04-09T13:32:45.011350Z",
     "shell.execute_reply": "2023-04-09T13:32:45.010181Z"
    },
    "papermill": {
     "duration": 0.05972,
     "end_time": "2023-04-09T13:32:45.014135",
     "exception": false,
     "start_time": "2023-04-09T13:32:44.954415",
     "status": "completed"
    },
    "tags": []
   },
   "outputs": [],
   "source": [
    "# TODO: turn into function\n",
    "total = test_df.isnull().sum()\n",
    "percent = (test_df.isnull().sum()/test_df.isnull().count()*100)\n",
    "tt = pd.concat([total, percent], axis=1, keys=['Total', 'Percent'])\n",
    "types = []\n",
    "for col in test_df.columns:\n",
    "    dtype = str(test_df[col].dtype)\n",
    "    types.append(dtype)\n",
    "tt['Types'] = types\n",
    "df_missing_test = np.transpose(tt)"
   ]
  },
  {
   "cell_type": "markdown",
   "id": "b5109172",
   "metadata": {
    "papermill": {
     "duration": 0.029638,
     "end_time": "2023-04-09T13:32:45.074364",
     "exception": false,
     "start_time": "2023-04-09T13:32:45.044726",
     "status": "completed"
    },
    "tags": []
   },
   "source": [
    "### Most frequent data"
   ]
  },
  {
   "cell_type": "code",
   "execution_count": 16,
   "id": "4eebf73d",
   "metadata": {
    "execution": {
     "iopub.execute_input": "2023-04-09T13:32:45.209562Z",
     "iopub.status.busy": "2023-04-09T13:32:45.208882Z",
     "iopub.status.idle": "2023-04-09T13:32:45.243467Z",
     "shell.execute_reply": "2023-04-09T13:32:45.242558Z"
    },
    "papermill": {
     "duration": 0.068629,
     "end_time": "2023-04-09T13:32:45.245938",
     "exception": false,
     "start_time": "2023-04-09T13:32:45.177309",
     "status": "completed"
    },
    "tags": []
   },
   "outputs": [
    {
     "data": {
      "text/html": [
       "<div>\n",
       "<style scoped>\n",
       "    .dataframe tbody tr th:only-of-type {\n",
       "        vertical-align: middle;\n",
       "    }\n",
       "\n",
       "    .dataframe tbody tr th {\n",
       "        vertical-align: top;\n",
       "    }\n",
       "\n",
       "    .dataframe thead th {\n",
       "        text-align: right;\n",
       "    }\n",
       "</style>\n",
       "<table border=\"1\" class=\"dataframe\">\n",
       "  <thead>\n",
       "    <tr style=\"text-align: right;\">\n",
       "      <th></th>\n",
       "      <th>PassengerId</th>\n",
       "      <th>Survived</th>\n",
       "      <th>Pclass</th>\n",
       "      <th>Name</th>\n",
       "      <th>Sex</th>\n",
       "      <th>Age</th>\n",
       "      <th>SibSp</th>\n",
       "      <th>Parch</th>\n",
       "      <th>Ticket</th>\n",
       "      <th>Fare</th>\n",
       "      <th>Cabin</th>\n",
       "      <th>Embarked</th>\n",
       "    </tr>\n",
       "  </thead>\n",
       "  <tbody>\n",
       "    <tr>\n",
       "      <th>Total</th>\n",
       "      <td>891</td>\n",
       "      <td>891</td>\n",
       "      <td>891</td>\n",
       "      <td>891</td>\n",
       "      <td>891</td>\n",
       "      <td>714</td>\n",
       "      <td>891</td>\n",
       "      <td>891</td>\n",
       "      <td>891</td>\n",
       "      <td>891</td>\n",
       "      <td>204</td>\n",
       "      <td>889</td>\n",
       "    </tr>\n",
       "    <tr>\n",
       "      <th>Most frequent item</th>\n",
       "      <td>891</td>\n",
       "      <td>0</td>\n",
       "      <td>3</td>\n",
       "      <td>Dooley, Mr. Patrick</td>\n",
       "      <td>male</td>\n",
       "      <td>24.0</td>\n",
       "      <td>0</td>\n",
       "      <td>0</td>\n",
       "      <td>CA. 2343</td>\n",
       "      <td>8.05</td>\n",
       "      <td>G6</td>\n",
       "      <td>S</td>\n",
       "    </tr>\n",
       "    <tr>\n",
       "      <th>Frequence</th>\n",
       "      <td>1</td>\n",
       "      <td>549</td>\n",
       "      <td>491</td>\n",
       "      <td>1</td>\n",
       "      <td>577</td>\n",
       "      <td>30</td>\n",
       "      <td>608</td>\n",
       "      <td>678</td>\n",
       "      <td>7</td>\n",
       "      <td>43</td>\n",
       "      <td>4</td>\n",
       "      <td>644</td>\n",
       "    </tr>\n",
       "    <tr>\n",
       "      <th>Percent from total</th>\n",
       "      <td>0.112</td>\n",
       "      <td>61.616</td>\n",
       "      <td>55.107</td>\n",
       "      <td>0.112</td>\n",
       "      <td>64.759</td>\n",
       "      <td>4.202</td>\n",
       "      <td>68.238</td>\n",
       "      <td>76.094</td>\n",
       "      <td>0.786</td>\n",
       "      <td>4.826</td>\n",
       "      <td>1.961</td>\n",
       "      <td>72.441</td>\n",
       "    </tr>\n",
       "  </tbody>\n",
       "</table>\n",
       "</div>"
      ],
      "text/plain": [
       "                   PassengerId Survived  Pclass                 Name     Sex  \\\n",
       "Total                      891      891     891                  891     891   \n",
       "Most frequent item         891        0       3  Dooley, Mr. Patrick    male   \n",
       "Frequence                    1      549     491                    1     577   \n",
       "Percent from total       0.112   61.616  55.107                0.112  64.759   \n",
       "\n",
       "                      Age   SibSp   Parch    Ticket   Fare  Cabin Embarked  \n",
       "Total                 714     891     891       891    891    204      889  \n",
       "Most frequent item   24.0       0       0  CA. 2343   8.05     G6        S  \n",
       "Frequence              30     608     678         7     43      4      644  \n",
       "Percent from total  4.202  68.238  76.094     0.786  4.826  1.961   72.441  "
      ]
     },
     "execution_count": 16,
     "metadata": {},
     "output_type": "execute_result"
    }
   ],
   "source": [
    "# TODO: turn into function\n",
    "total = train_df.count()\n",
    "tt = pd.DataFrame(total)\n",
    "tt.columns = ['Total']\n",
    "items = []\n",
    "vals = []\n",
    "for col in train_df.columns:\n",
    "    try:\n",
    "        itm = train_df[col].value_counts().index[0]\n",
    "        val = train_df[col].value_counts().values[0]\n",
    "        items.append(itm)\n",
    "        vals.append(val)\n",
    "    except Exception as ex:\n",
    "        print(ex)\n",
    "        items.append(0)\n",
    "        vals.append(0)\n",
    "        continue\n",
    "tt['Most frequent item'] = items\n",
    "tt['Frequence'] = vals\n",
    "tt['Percent from total'] = np.round(vals / total * 100, 3)\n",
    "np.transpose(tt)"
   ]
  },
  {
   "cell_type": "code",
   "execution_count": 17,
   "id": "f41e5126",
   "metadata": {
    "execution": {
     "iopub.execute_input": "2023-04-09T13:32:45.308398Z",
     "iopub.status.busy": "2023-04-09T13:32:45.307969Z",
     "iopub.status.idle": "2023-04-09T13:32:45.338304Z",
     "shell.execute_reply": "2023-04-09T13:32:45.336857Z"
    },
    "papermill": {
     "duration": 0.065008,
     "end_time": "2023-04-09T13:32:45.340867",
     "exception": false,
     "start_time": "2023-04-09T13:32:45.275859",
     "status": "completed"
    },
    "tags": []
   },
   "outputs": [
    {
     "data": {
      "text/html": [
       "<div>\n",
       "<style scoped>\n",
       "    .dataframe tbody tr th:only-of-type {\n",
       "        vertical-align: middle;\n",
       "    }\n",
       "\n",
       "    .dataframe tbody tr th {\n",
       "        vertical-align: top;\n",
       "    }\n",
       "\n",
       "    .dataframe thead th {\n",
       "        text-align: right;\n",
       "    }\n",
       "</style>\n",
       "<table border=\"1\" class=\"dataframe\">\n",
       "  <thead>\n",
       "    <tr style=\"text-align: right;\">\n",
       "      <th></th>\n",
       "      <th>PassengerId</th>\n",
       "      <th>Pclass</th>\n",
       "      <th>Name</th>\n",
       "      <th>Sex</th>\n",
       "      <th>Age</th>\n",
       "      <th>SibSp</th>\n",
       "      <th>Parch</th>\n",
       "      <th>Ticket</th>\n",
       "      <th>Fare</th>\n",
       "      <th>Cabin</th>\n",
       "      <th>Embarked</th>\n",
       "    </tr>\n",
       "  </thead>\n",
       "  <tbody>\n",
       "    <tr>\n",
       "      <th>Total</th>\n",
       "      <td>418</td>\n",
       "      <td>418</td>\n",
       "      <td>418</td>\n",
       "      <td>418</td>\n",
       "      <td>332</td>\n",
       "      <td>418</td>\n",
       "      <td>418</td>\n",
       "      <td>418</td>\n",
       "      <td>417</td>\n",
       "      <td>91</td>\n",
       "      <td>418</td>\n",
       "    </tr>\n",
       "    <tr>\n",
       "      <th>Most frequent item</th>\n",
       "      <td>1309</td>\n",
       "      <td>3</td>\n",
       "      <td>Peter, Master. Michael J</td>\n",
       "      <td>male</td>\n",
       "      <td>21.0</td>\n",
       "      <td>0</td>\n",
       "      <td>0</td>\n",
       "      <td>PC 17608</td>\n",
       "      <td>7.75</td>\n",
       "      <td>B57 B59 B63 B66</td>\n",
       "      <td>S</td>\n",
       "    </tr>\n",
       "    <tr>\n",
       "      <th>Frequence</th>\n",
       "      <td>1</td>\n",
       "      <td>218</td>\n",
       "      <td>1</td>\n",
       "      <td>266</td>\n",
       "      <td>17</td>\n",
       "      <td>283</td>\n",
       "      <td>324</td>\n",
       "      <td>5</td>\n",
       "      <td>21</td>\n",
       "      <td>3</td>\n",
       "      <td>270</td>\n",
       "    </tr>\n",
       "    <tr>\n",
       "      <th>Percent from total</th>\n",
       "      <td>0.239</td>\n",
       "      <td>52.153</td>\n",
       "      <td>0.239</td>\n",
       "      <td>63.636</td>\n",
       "      <td>5.12</td>\n",
       "      <td>67.703</td>\n",
       "      <td>77.512</td>\n",
       "      <td>1.196</td>\n",
       "      <td>5.036</td>\n",
       "      <td>3.297</td>\n",
       "      <td>64.593</td>\n",
       "    </tr>\n",
       "  </tbody>\n",
       "</table>\n",
       "</div>"
      ],
      "text/plain": [
       "                   PassengerId  Pclass                      Name     Sex  \\\n",
       "Total                      418     418                       418     418   \n",
       "Most frequent item        1309       3  Peter, Master. Michael J    male   \n",
       "Frequence                    1     218                         1     266   \n",
       "Percent from total       0.239  52.153                     0.239  63.636   \n",
       "\n",
       "                     Age   SibSp   Parch    Ticket   Fare            Cabin  \\\n",
       "Total                332     418     418       418    417               91   \n",
       "Most frequent item  21.0       0       0  PC 17608   7.75  B57 B59 B63 B66   \n",
       "Frequence             17     283     324         5     21                3   \n",
       "Percent from total  5.12  67.703  77.512     1.196  5.036            3.297   \n",
       "\n",
       "                   Embarked  \n",
       "Total                   418  \n",
       "Most frequent item        S  \n",
       "Frequence               270  \n",
       "Percent from total   64.593  "
      ]
     },
     "execution_count": 17,
     "metadata": {},
     "output_type": "execute_result"
    }
   ],
   "source": [
    "# TODO: turn into function\n",
    "total = test_df.count()\n",
    "tt = pd.DataFrame(total)\n",
    "tt.columns = ['Total']\n",
    "items = []\n",
    "vals = []\n",
    "for col in test_df.columns:\n",
    "    try:\n",
    "        itm = test_df[col].value_counts().index[0]\n",
    "        val = test_df[col].value_counts().values[0]\n",
    "        items.append(itm)\n",
    "        vals.append(val)\n",
    "    except Exception as ex:\n",
    "        print(ex)\n",
    "        items.append(0)\n",
    "        vals.append(0)\n",
    "        continue\n",
    "tt['Most frequent item'] = items\n",
    "tt['Frequence'] = vals\n",
    "tt['Percent from total'] = np.round(vals / total * 100, 3)\n",
    "np.transpose(tt)"
   ]
  },
  {
   "cell_type": "markdown",
   "id": "23d18c8b",
   "metadata": {
    "papermill": {
     "duration": 0.029988,
     "end_time": "2023-04-09T13:32:45.401178",
     "exception": false,
     "start_time": "2023-04-09T13:32:45.371190",
     "status": "completed"
    },
    "tags": []
   },
   "source": [
    "### Unique values"
   ]
  },
  {
   "cell_type": "code",
   "execution_count": 18,
   "id": "f09fd047",
   "metadata": {
    "execution": {
     "iopub.execute_input": "2023-04-09T13:32:45.463926Z",
     "iopub.status.busy": "2023-04-09T13:32:45.463429Z",
     "iopub.status.idle": "2023-04-09T13:32:45.469932Z",
     "shell.execute_reply": "2023-04-09T13:32:45.469031Z"
    },
    "papermill": {
     "duration": 0.040924,
     "end_time": "2023-04-09T13:32:45.472353",
     "exception": false,
     "start_time": "2023-04-09T13:32:45.431429",
     "status": "completed"
    },
    "tags": []
   },
   "outputs": [
    {
     "data": {
      "text/html": [
       "<div>\n",
       "<style scoped>\n",
       "    .dataframe tbody tr th:only-of-type {\n",
       "        vertical-align: middle;\n",
       "    }\n",
       "\n",
       "    .dataframe tbody tr th {\n",
       "        vertical-align: top;\n",
       "    }\n",
       "\n",
       "    .dataframe thead th {\n",
       "        text-align: right;\n",
       "    }\n",
       "</style>\n",
       "<table border=\"1\" class=\"dataframe\">\n",
       "  <thead>\n",
       "    <tr style=\"text-align: right;\">\n",
       "      <th></th>\n",
       "      <th>PassengerId</th>\n",
       "      <th>Survived</th>\n",
       "      <th>Pclass</th>\n",
       "      <th>Name</th>\n",
       "      <th>Sex</th>\n",
       "      <th>Age</th>\n",
       "      <th>SibSp</th>\n",
       "      <th>Parch</th>\n",
       "      <th>Ticket</th>\n",
       "      <th>Fare</th>\n",
       "      <th>Cabin</th>\n",
       "      <th>Embarked</th>\n",
       "    </tr>\n",
       "  </thead>\n",
       "  <tbody>\n",
       "    <tr>\n",
       "      <th>Total</th>\n",
       "      <td>891</td>\n",
       "      <td>891</td>\n",
       "      <td>891</td>\n",
       "      <td>891</td>\n",
       "      <td>891</td>\n",
       "      <td>714</td>\n",
       "      <td>891</td>\n",
       "      <td>891</td>\n",
       "      <td>891</td>\n",
       "      <td>891</td>\n",
       "      <td>204</td>\n",
       "      <td>889</td>\n",
       "    </tr>\n",
       "    <tr>\n",
       "      <th>Uniques</th>\n",
       "      <td>891</td>\n",
       "      <td>2</td>\n",
       "      <td>3</td>\n",
       "      <td>891</td>\n",
       "      <td>2</td>\n",
       "      <td>88</td>\n",
       "      <td>7</td>\n",
       "      <td>7</td>\n",
       "      <td>681</td>\n",
       "      <td>248</td>\n",
       "      <td>147</td>\n",
       "      <td>3</td>\n",
       "    </tr>\n",
       "  </tbody>\n",
       "</table>\n",
       "</div>"
      ],
      "text/plain": [
       "         PassengerId  Survived  Pclass  Name  Sex  Age  SibSp  Parch  Ticket  \\\n",
       "Total            891       891     891   891  891  714    891    891     891   \n",
       "Uniques          891         2       3   891    2   88      7      7     681   \n",
       "\n",
       "         Fare  Cabin  Embarked  \n",
       "Total     891    204       889  \n",
       "Uniques   248    147         3  "
      ]
     },
     "execution_count": 18,
     "metadata": {},
     "output_type": "execute_result"
    }
   ],
   "source": [
    "# TODO: turn into function\n",
    "total = train_df.count()\n",
    "tt = pd.DataFrame(total)\n",
    "tt.columns = ['Total']\n",
    "uniques = []\n",
    "for col in train_df.columns:\n",
    "    unique = train_df[col].nunique()\n",
    "    uniques.append(unique)\n",
    "tt['Uniques'] = uniques\n",
    "np.transpose(tt)"
   ]
  },
  {
   "cell_type": "code",
   "execution_count": 19,
   "id": "225a84a4",
   "metadata": {
    "execution": {
     "iopub.execute_input": "2023-04-09T13:32:45.536435Z",
     "iopub.status.busy": "2023-04-09T13:32:45.535529Z",
     "iopub.status.idle": "2023-04-09T13:32:45.556243Z",
     "shell.execute_reply": "2023-04-09T13:32:45.554903Z"
    },
    "papermill": {
     "duration": 0.055267,
     "end_time": "2023-04-09T13:32:45.559112",
     "exception": false,
     "start_time": "2023-04-09T13:32:45.503845",
     "status": "completed"
    },
    "tags": []
   },
   "outputs": [
    {
     "data": {
      "text/html": [
       "<div>\n",
       "<style scoped>\n",
       "    .dataframe tbody tr th:only-of-type {\n",
       "        vertical-align: middle;\n",
       "    }\n",
       "\n",
       "    .dataframe tbody tr th {\n",
       "        vertical-align: top;\n",
       "    }\n",
       "\n",
       "    .dataframe thead th {\n",
       "        text-align: right;\n",
       "    }\n",
       "</style>\n",
       "<table border=\"1\" class=\"dataframe\">\n",
       "  <thead>\n",
       "    <tr style=\"text-align: right;\">\n",
       "      <th></th>\n",
       "      <th>PassengerId</th>\n",
       "      <th>Pclass</th>\n",
       "      <th>Name</th>\n",
       "      <th>Sex</th>\n",
       "      <th>Age</th>\n",
       "      <th>SibSp</th>\n",
       "      <th>Parch</th>\n",
       "      <th>Ticket</th>\n",
       "      <th>Fare</th>\n",
       "      <th>Cabin</th>\n",
       "      <th>Embarked</th>\n",
       "    </tr>\n",
       "  </thead>\n",
       "  <tbody>\n",
       "    <tr>\n",
       "      <th>Total</th>\n",
       "      <td>418</td>\n",
       "      <td>418</td>\n",
       "      <td>418</td>\n",
       "      <td>418</td>\n",
       "      <td>332</td>\n",
       "      <td>418</td>\n",
       "      <td>418</td>\n",
       "      <td>418</td>\n",
       "      <td>417</td>\n",
       "      <td>91</td>\n",
       "      <td>418</td>\n",
       "    </tr>\n",
       "    <tr>\n",
       "      <th>Uniques</th>\n",
       "      <td>418</td>\n",
       "      <td>3</td>\n",
       "      <td>418</td>\n",
       "      <td>2</td>\n",
       "      <td>79</td>\n",
       "      <td>7</td>\n",
       "      <td>8</td>\n",
       "      <td>363</td>\n",
       "      <td>169</td>\n",
       "      <td>76</td>\n",
       "      <td>3</td>\n",
       "    </tr>\n",
       "  </tbody>\n",
       "</table>\n",
       "</div>"
      ],
      "text/plain": [
       "         PassengerId  Pclass  Name  Sex  Age  SibSp  Parch  Ticket  Fare  \\\n",
       "Total            418     418   418  418  332    418    418     418   417   \n",
       "Uniques          418       3   418    2   79      7      8     363   169   \n",
       "\n",
       "         Cabin  Embarked  \n",
       "Total       91       418  \n",
       "Uniques     76         3  "
      ]
     },
     "execution_count": 19,
     "metadata": {},
     "output_type": "execute_result"
    }
   ],
   "source": [
    "# TODO: turn into function\n",
    "total = test_df.count()\n",
    "tt = pd.DataFrame(total)\n",
    "tt.columns = ['Total']\n",
    "uniques = []\n",
    "for col in test_df.columns:\n",
    "    unique = test_df[col].nunique()\n",
    "    uniques.append(unique)\n",
    "tt['Uniques'] = uniques\n",
    "np.transpose(tt)"
   ]
  },
  {
   "cell_type": "markdown",
   "id": "38c3b074",
   "metadata": {
    "papermill": {
     "duration": 0.031049,
     "end_time": "2023-04-09T13:32:45.711070",
     "exception": false,
     "start_time": "2023-04-09T13:32:45.680021",
     "status": "completed"
    },
    "tags": []
   },
   "source": [
    "# Exploratory data analysis"
   ]
  },
  {
   "cell_type": "markdown",
   "id": "495b05f1",
   "metadata": {
    "papermill": {
     "duration": 0.030333,
     "end_time": "2023-04-09T13:32:45.773288",
     "exception": false,
     "start_time": "2023-04-09T13:32:45.742955",
     "status": "completed"
    },
    "tags": []
   },
   "source": [
    "## Univariate analysis for all features\n",
    "\n",
    "\n",
    "We show here two graphs in paralel:\n",
    "* distribution of class values, split per Survived value\n",
    "* comparison of class values, in train and test data\n",
    "\n",
    "\n",
    "Let's first aggregate train and test data into one single dataframe, `all_df`."
   ]
  },
  {
   "cell_type": "code",
   "execution_count": 20,
   "id": "400dcbcc",
   "metadata": {
    "execution": {
     "iopub.execute_input": "2023-04-09T13:32:45.837448Z",
     "iopub.status.busy": "2023-04-09T13:32:45.836771Z",
     "iopub.status.idle": "2023-04-09T13:32:45.847099Z",
     "shell.execute_reply": "2023-04-09T13:32:45.845835Z"
    },
    "papermill": {
     "duration": 0.045321,
     "end_time": "2023-04-09T13:32:45.849857",
     "exception": false,
     "start_time": "2023-04-09T13:32:45.804536",
     "status": "completed"
    },
    "tags": []
   },
   "outputs": [],
   "source": [
    "# TODO: turn into function\n",
    "def merge_and_label_sets(train_df, test_df):\n",
    "    all_df = pd.concat([train_df, test_df], axis=0)\n",
    "    all_df[\"set\"] = \"train\"\n",
    "    all_df.loc[all_df.Survived.isna(), \"set\"] = \"test\"\n",
    "    return all_df"
   ]
  },
  {
   "cell_type": "code",
   "execution_count": 25,
   "id": "6347e569",
   "metadata": {},
   "outputs": [],
   "source": [
    "all_df = merge_and_label_sets(train_df, test_df)"
   ]
  },
  {
   "cell_type": "code",
   "execution_count": 26,
   "id": "30801ba0",
   "metadata": {
    "execution": {
     "iopub.execute_input": "2023-04-09T13:32:45.913767Z",
     "iopub.status.busy": "2023-04-09T13:32:45.913366Z",
     "iopub.status.idle": "2023-04-09T13:32:45.932505Z",
     "shell.execute_reply": "2023-04-09T13:32:45.931173Z"
    },
    "papermill": {
     "duration": 0.054358,
     "end_time": "2023-04-09T13:32:45.935425",
     "exception": false,
     "start_time": "2023-04-09T13:32:45.881067",
     "status": "completed"
    },
    "tags": []
   },
   "outputs": [
    {
     "data": {
      "text/html": [
       "<div>\n",
       "<style scoped>\n",
       "    .dataframe tbody tr th:only-of-type {\n",
       "        vertical-align: middle;\n",
       "    }\n",
       "\n",
       "    .dataframe tbody tr th {\n",
       "        vertical-align: top;\n",
       "    }\n",
       "\n",
       "    .dataframe thead th {\n",
       "        text-align: right;\n",
       "    }\n",
       "</style>\n",
       "<table border=\"1\" class=\"dataframe\">\n",
       "  <thead>\n",
       "    <tr style=\"text-align: right;\">\n",
       "      <th></th>\n",
       "      <th>PassengerId</th>\n",
       "      <th>Survived</th>\n",
       "      <th>Pclass</th>\n",
       "      <th>Name</th>\n",
       "      <th>Sex</th>\n",
       "      <th>Age</th>\n",
       "      <th>SibSp</th>\n",
       "      <th>Parch</th>\n",
       "      <th>Ticket</th>\n",
       "      <th>Fare</th>\n",
       "      <th>Cabin</th>\n",
       "      <th>Embarked</th>\n",
       "      <th>set</th>\n",
       "    </tr>\n",
       "  </thead>\n",
       "  <tbody>\n",
       "    <tr>\n",
       "      <th>0</th>\n",
       "      <td>1</td>\n",
       "      <td>0.0</td>\n",
       "      <td>3</td>\n",
       "      <td>Braund, Mr. Owen Harris</td>\n",
       "      <td>male</td>\n",
       "      <td>22.0</td>\n",
       "      <td>1</td>\n",
       "      <td>0</td>\n",
       "      <td>A/5 21171</td>\n",
       "      <td>7.2500</td>\n",
       "      <td>NaN</td>\n",
       "      <td>S</td>\n",
       "      <td>train</td>\n",
       "    </tr>\n",
       "    <tr>\n",
       "      <th>1</th>\n",
       "      <td>2</td>\n",
       "      <td>1.0</td>\n",
       "      <td>1</td>\n",
       "      <td>Cumings, Mrs. John Bradley (Florence Briggs Th...</td>\n",
       "      <td>female</td>\n",
       "      <td>38.0</td>\n",
       "      <td>1</td>\n",
       "      <td>0</td>\n",
       "      <td>PC 17599</td>\n",
       "      <td>71.2833</td>\n",
       "      <td>C85</td>\n",
       "      <td>C</td>\n",
       "      <td>train</td>\n",
       "    </tr>\n",
       "    <tr>\n",
       "      <th>2</th>\n",
       "      <td>3</td>\n",
       "      <td>1.0</td>\n",
       "      <td>3</td>\n",
       "      <td>Heikkinen, Miss. Laina</td>\n",
       "      <td>female</td>\n",
       "      <td>26.0</td>\n",
       "      <td>0</td>\n",
       "      <td>0</td>\n",
       "      <td>STON/O2. 3101282</td>\n",
       "      <td>7.9250</td>\n",
       "      <td>NaN</td>\n",
       "      <td>S</td>\n",
       "      <td>train</td>\n",
       "    </tr>\n",
       "    <tr>\n",
       "      <th>3</th>\n",
       "      <td>4</td>\n",
       "      <td>1.0</td>\n",
       "      <td>1</td>\n",
       "      <td>Futrelle, Mrs. Jacques Heath (Lily May Peel)</td>\n",
       "      <td>female</td>\n",
       "      <td>35.0</td>\n",
       "      <td>1</td>\n",
       "      <td>0</td>\n",
       "      <td>113803</td>\n",
       "      <td>53.1000</td>\n",
       "      <td>C123</td>\n",
       "      <td>S</td>\n",
       "      <td>train</td>\n",
       "    </tr>\n",
       "    <tr>\n",
       "      <th>4</th>\n",
       "      <td>5</td>\n",
       "      <td>0.0</td>\n",
       "      <td>3</td>\n",
       "      <td>Allen, Mr. William Henry</td>\n",
       "      <td>male</td>\n",
       "      <td>35.0</td>\n",
       "      <td>0</td>\n",
       "      <td>0</td>\n",
       "      <td>373450</td>\n",
       "      <td>8.0500</td>\n",
       "      <td>NaN</td>\n",
       "      <td>S</td>\n",
       "      <td>train</td>\n",
       "    </tr>\n",
       "  </tbody>\n",
       "</table>\n",
       "</div>"
      ],
      "text/plain": [
       "   PassengerId  Survived  Pclass  \\\n",
       "0            1       0.0       3   \n",
       "1            2       1.0       1   \n",
       "2            3       1.0       3   \n",
       "3            4       1.0       1   \n",
       "4            5       0.0       3   \n",
       "\n",
       "                                                Name     Sex   Age  SibSp  \\\n",
       "0                            Braund, Mr. Owen Harris    male  22.0      1   \n",
       "1  Cumings, Mrs. John Bradley (Florence Briggs Th...  female  38.0      1   \n",
       "2                             Heikkinen, Miss. Laina  female  26.0      0   \n",
       "3       Futrelle, Mrs. Jacques Heath (Lily May Peel)  female  35.0      1   \n",
       "4                           Allen, Mr. William Henry    male  35.0      0   \n",
       "\n",
       "   Parch            Ticket     Fare Cabin Embarked    set  \n",
       "0      0         A/5 21171   7.2500   NaN        S  train  \n",
       "1      0          PC 17599  71.2833   C85        C  train  \n",
       "2      0  STON/O2. 3101282   7.9250   NaN        S  train  \n",
       "3      0            113803  53.1000  C123        S  train  \n",
       "4      0            373450   8.0500   NaN        S  train  "
      ]
     },
     "execution_count": 26,
     "metadata": {},
     "output_type": "execute_result"
    }
   ],
   "source": [
    "all_df.head()"
   ]
  },
  {
   "cell_type": "code",
   "execution_count": null,
   "id": "63514a48",
   "metadata": {},
   "outputs": [],
   "source": [
    "# Plot count pairs \"Sex\"\n",
    "f, ax = plt.subplots(1, 1, figsize=(8, 4))\n",
    "sns.countplot(x=\"Sex\", data=all_df, hue=\"set\", palette= color_list)\n",
    "plt.grid(color=\"black\", linestyle=\"-.\", linewidth=0.5, axis=\"y\", which=\"major\")\n",
    "ax.set_title(\"Number of passengers / Sex\")\n",
    "plt.show()"
   ]
  },
  {
   "cell_type": "code",
   "execution_count": null,
   "id": "a9d14ee4",
   "metadata": {},
   "outputs": [],
   "source": [
    "# Plot distribution pairs for \"Sex\" and hue as \"Survived\"\n",
    "color_list = [\"#A5D7E8\", \"#576CBC\", \"#19376D\", \"#0b2447\"]\n",
    "f, ax = plt.subplots(1, 1, figsize=(8, 4))\n",
    "for i, h in enumerate(train_df[\"Survived\"].unique()):\n",
    "    g = sns.histplot(train_df.loc[train_df[\"Survived\"]==h, \"Sex\"], \n",
    "                                  color=color_list[i], \n",
    "                                  ax=ax, \n",
    "                                  label=h)\n",
    "ax.set_title(\"Number of passengers / Sex\")\n",
    "g.legend()\n",
    "plt.show()"
   ]
  },
  {
   "cell_type": "code",
   "execution_count": null,
   "id": "fe0b7b1e",
   "metadata": {
    "execution": {
     "iopub.execute_input": "2023-04-09T13:32:46.501255Z",
     "iopub.status.busy": "2023-04-09T13:32:46.500379Z",
     "iopub.status.idle": "2023-04-09T13:32:46.738315Z",
     "shell.execute_reply": "2023-04-09T13:32:46.737065Z"
    },
    "papermill": {
     "duration": 0.273785,
     "end_time": "2023-04-09T13:32:46.741101",
     "exception": false,
     "start_time": "2023-04-09T13:32:46.467316",
     "status": "completed"
    },
    "tags": []
   },
   "outputs": [],
   "source": [
    "# Plot count pairs using all_df for the columns: Sex, Pclasss, SibSp, Parch, Embarked"
   ]
  },
  {
   "cell_type": "code",
   "execution_count": null,
   "id": "39b2b425",
   "metadata": {},
   "outputs": [],
   "source": [
    "# Plot count pairs using all_df for the columns: Sex, Pclasss, SibSp, Parch, Embarked and use \"Survived\" as hue."
   ]
  },
  {
   "cell_type": "code",
   "execution_count": null,
   "id": "6dc36b1f",
   "metadata": {},
   "outputs": [],
   "source": [
    "# Plot distribution pairs for Age and Fare"
   ]
  },
  {
   "cell_type": "code",
   "execution_count": null,
   "id": "7a8cccce",
   "metadata": {},
   "outputs": [],
   "source": [
    "# Plot distribution pairs for Age and Fare using \"Survived\" as hue"
   ]
  },
  {
   "cell_type": "markdown",
   "id": "a9b45219",
   "metadata": {
    "papermill": {
     "duration": 0.037641,
     "end_time": "2023-04-09T13:32:52.114502",
     "exception": false,
     "start_time": "2023-04-09T13:32:52.076861",
     "status": "completed"
    },
    "tags": []
   },
   "source": [
    "## Family size\n",
    "\n",
    "\n",
    "Based on SibSp (sibilings or spouse) and Parch (parents or children), we set the Family Size field."
   ]
  },
  {
   "cell_type": "code",
   "execution_count": 28,
   "id": "5836df98",
   "metadata": {
    "execution": {
     "iopub.execute_input": "2023-04-09T13:32:52.192880Z",
     "iopub.status.busy": "2023-04-09T13:32:52.192410Z",
     "iopub.status.idle": "2023-04-09T13:32:52.198908Z",
     "shell.execute_reply": "2023-04-09T13:32:52.197822Z"
    },
    "papermill": {
     "duration": 0.048281,
     "end_time": "2023-04-09T13:32:52.201022",
     "exception": false,
     "start_time": "2023-04-09T13:32:52.152741",
     "status": "completed"
    },
    "tags": []
   },
   "outputs": [],
   "source": [
    "# TODO: turn into function\n",
    "def add_family_size_column(df):\n",
    "    # Add a \"Family Size\" column by combining \"SibSp\", \"Parch\", and adding 1\n",
    "    df[\"Family Size\"] = df[\"SibSp\"] + df[\"Parch\"] + 1\n",
    "    return df\n"
   ]
  },
  {
   "cell_type": "code",
   "execution_count": 29,
   "id": "31e7eb6f",
   "metadata": {
    "execution": {
     "iopub.execute_input": "2023-04-09T13:32:52.279230Z",
     "iopub.status.busy": "2023-04-09T13:32:52.278523Z",
     "iopub.status.idle": "2023-04-09T13:32:52.284255Z",
     "shell.execute_reply": "2023-04-09T13:32:52.283378Z"
    },
    "papermill": {
     "duration": 0.04778,
     "end_time": "2023-04-09T13:32:52.286848",
     "exception": false,
     "start_time": "2023-04-09T13:32:52.239068",
     "status": "completed"
    },
    "tags": []
   },
   "outputs": [],
   "source": [
    "# TODO: turn into function\n",
    "def add_family_size_to_train(train_df):\n",
    "    # Add a \"Family Size\" column to train_df by combining \"SibSp\", \"Parch\", and adding 1\n",
    "    train_df[\"Family Size\"] = train_df[\"SibSp\"] + train_df[\"Parch\"] + 1\n",
    "    return train_df\n"
   ]
  },
  {
   "cell_type": "code",
   "execution_count": null,
   "id": "a4c01cdd",
   "metadata": {
    "execution": {
     "iopub.execute_input": "2023-04-09T13:32:52.740841Z",
     "iopub.status.busy": "2023-04-09T13:32:52.739684Z",
     "iopub.status.idle": "2023-04-09T13:32:53.041356Z",
     "shell.execute_reply": "2023-04-09T13:32:53.039962Z"
    },
    "papermill": {
     "duration": 0.345277,
     "end_time": "2023-04-09T13:32:53.044264",
     "exception": false,
     "start_time": "2023-04-09T13:32:52.698987",
     "status": "completed"
    },
    "tags": []
   },
   "outputs": [],
   "source": [
    "# Plot count pairs using all_df for the column \"Family Size\" and use \"Survived\" as hue."
   ]
  },
  {
   "cell_type": "markdown",
   "id": "3deb3497",
   "metadata": {
    "papermill": {
     "duration": 0.039742,
     "end_time": "2023-04-09T13:32:53.124517",
     "exception": false,
     "start_time": "2023-04-09T13:32:53.084775",
     "status": "completed"
    },
    "tags": []
   },
   "source": [
    "## Age interval"
   ]
  },
  {
   "cell_type": "code",
   "execution_count": 30,
   "id": "d3f2cc96",
   "metadata": {
    "execution": {
     "iopub.execute_input": "2023-04-09T13:32:53.206624Z",
     "iopub.status.busy": "2023-04-09T13:32:53.205765Z",
     "iopub.status.idle": "2023-04-09T13:32:53.218451Z",
     "shell.execute_reply": "2023-04-09T13:32:53.217502Z"
    },
    "papermill": {
     "duration": 0.056998,
     "end_time": "2023-04-09T13:32:53.221006",
     "exception": false,
     "start_time": "2023-04-09T13:32:53.164008",
     "status": "completed"
    },
    "tags": []
   },
   "outputs": [],
   "source": [
    "# TODO: turn into function\n",
    "def assign_age_interval(df):\n",
    "    df[\"Age Interval\"] = 0.0\n",
    "    df.loc[df['Age'] <= 16, 'Age Interval'] = 0\n",
    "    df.loc[(df['Age'] > 16) & (df['Age'] <= 32), 'Age Interval'] = 1\n",
    "    df.loc[(df['Age'] > 32) & (df['Age'] <= 48), 'Age Interval'] = 2\n",
    "    df.loc[(df['Age'] > 48) & (df['Age'] <= 64), 'Age Interval'] = 3\n",
    "    df.loc[df['Age'] > 64, 'Age Interval'] = 4\n",
    "\n",
    "    return df\n",
    "\n",
    "all_df = assign_age_interval(all_df)\n"
   ]
  },
  {
   "cell_type": "code",
   "execution_count": 31,
   "id": "34983e50",
   "metadata": {
    "execution": {
     "iopub.execute_input": "2023-04-09T13:32:53.303008Z",
     "iopub.status.busy": "2023-04-09T13:32:53.302250Z",
     "iopub.status.idle": "2023-04-09T13:32:53.314396Z",
     "shell.execute_reply": "2023-04-09T13:32:53.313309Z"
    },
    "papermill": {
     "duration": 0.055966,
     "end_time": "2023-04-09T13:32:53.317052",
     "exception": false,
     "start_time": "2023-04-09T13:32:53.261086",
     "status": "completed"
    },
    "tags": []
   },
   "outputs": [],
   "source": [
    "# TODO: turn into function\n",
    "def train_df(df): \n",
    " train_df = assign_age_interval(train_df)\n",
    " return df\n"
   ]
  },
  {
   "cell_type": "code",
   "execution_count": 32,
   "id": "9e3cf35b",
   "metadata": {
    "execution": {
     "iopub.execute_input": "2023-04-09T13:32:53.399536Z",
     "iopub.status.busy": "2023-04-09T13:32:53.398814Z",
     "iopub.status.idle": "2023-04-09T13:32:53.419682Z",
     "shell.execute_reply": "2023-04-09T13:32:53.418372Z"
    },
    "papermill": {
     "duration": 0.066082,
     "end_time": "2023-04-09T13:32:53.422448",
     "exception": false,
     "start_time": "2023-04-09T13:32:53.356366",
     "status": "completed"
    },
    "tags": []
   },
   "outputs": [
    {
     "data": {
      "text/html": [
       "<div>\n",
       "<style scoped>\n",
       "    .dataframe tbody tr th:only-of-type {\n",
       "        vertical-align: middle;\n",
       "    }\n",
       "\n",
       "    .dataframe tbody tr th {\n",
       "        vertical-align: top;\n",
       "    }\n",
       "\n",
       "    .dataframe thead th {\n",
       "        text-align: right;\n",
       "    }\n",
       "</style>\n",
       "<table border=\"1\" class=\"dataframe\">\n",
       "  <thead>\n",
       "    <tr style=\"text-align: right;\">\n",
       "      <th></th>\n",
       "      <th>PassengerId</th>\n",
       "      <th>Survived</th>\n",
       "      <th>Pclass</th>\n",
       "      <th>Name</th>\n",
       "      <th>Sex</th>\n",
       "      <th>Age</th>\n",
       "      <th>SibSp</th>\n",
       "      <th>Parch</th>\n",
       "      <th>Ticket</th>\n",
       "      <th>Fare</th>\n",
       "      <th>Cabin</th>\n",
       "      <th>Embarked</th>\n",
       "      <th>set</th>\n",
       "      <th>Age Interval</th>\n",
       "    </tr>\n",
       "  </thead>\n",
       "  <tbody>\n",
       "    <tr>\n",
       "      <th>0</th>\n",
       "      <td>1</td>\n",
       "      <td>0.0</td>\n",
       "      <td>3</td>\n",
       "      <td>Braund, Mr. Owen Harris</td>\n",
       "      <td>male</td>\n",
       "      <td>22.0</td>\n",
       "      <td>1</td>\n",
       "      <td>0</td>\n",
       "      <td>A/5 21171</td>\n",
       "      <td>7.2500</td>\n",
       "      <td>NaN</td>\n",
       "      <td>S</td>\n",
       "      <td>train</td>\n",
       "      <td>1.0</td>\n",
       "    </tr>\n",
       "    <tr>\n",
       "      <th>1</th>\n",
       "      <td>2</td>\n",
       "      <td>1.0</td>\n",
       "      <td>1</td>\n",
       "      <td>Cumings, Mrs. John Bradley (Florence Briggs Th...</td>\n",
       "      <td>female</td>\n",
       "      <td>38.0</td>\n",
       "      <td>1</td>\n",
       "      <td>0</td>\n",
       "      <td>PC 17599</td>\n",
       "      <td>71.2833</td>\n",
       "      <td>C85</td>\n",
       "      <td>C</td>\n",
       "      <td>train</td>\n",
       "      <td>2.0</td>\n",
       "    </tr>\n",
       "    <tr>\n",
       "      <th>2</th>\n",
       "      <td>3</td>\n",
       "      <td>1.0</td>\n",
       "      <td>3</td>\n",
       "      <td>Heikkinen, Miss. Laina</td>\n",
       "      <td>female</td>\n",
       "      <td>26.0</td>\n",
       "      <td>0</td>\n",
       "      <td>0</td>\n",
       "      <td>STON/O2. 3101282</td>\n",
       "      <td>7.9250</td>\n",
       "      <td>NaN</td>\n",
       "      <td>S</td>\n",
       "      <td>train</td>\n",
       "      <td>1.0</td>\n",
       "    </tr>\n",
       "    <tr>\n",
       "      <th>3</th>\n",
       "      <td>4</td>\n",
       "      <td>1.0</td>\n",
       "      <td>1</td>\n",
       "      <td>Futrelle, Mrs. Jacques Heath (Lily May Peel)</td>\n",
       "      <td>female</td>\n",
       "      <td>35.0</td>\n",
       "      <td>1</td>\n",
       "      <td>0</td>\n",
       "      <td>113803</td>\n",
       "      <td>53.1000</td>\n",
       "      <td>C123</td>\n",
       "      <td>S</td>\n",
       "      <td>train</td>\n",
       "      <td>2.0</td>\n",
       "    </tr>\n",
       "    <tr>\n",
       "      <th>4</th>\n",
       "      <td>5</td>\n",
       "      <td>0.0</td>\n",
       "      <td>3</td>\n",
       "      <td>Allen, Mr. William Henry</td>\n",
       "      <td>male</td>\n",
       "      <td>35.0</td>\n",
       "      <td>0</td>\n",
       "      <td>0</td>\n",
       "      <td>373450</td>\n",
       "      <td>8.0500</td>\n",
       "      <td>NaN</td>\n",
       "      <td>S</td>\n",
       "      <td>train</td>\n",
       "      <td>2.0</td>\n",
       "    </tr>\n",
       "  </tbody>\n",
       "</table>\n",
       "</div>"
      ],
      "text/plain": [
       "   PassengerId  Survived  Pclass  \\\n",
       "0            1       0.0       3   \n",
       "1            2       1.0       1   \n",
       "2            3       1.0       3   \n",
       "3            4       1.0       1   \n",
       "4            5       0.0       3   \n",
       "\n",
       "                                                Name     Sex   Age  SibSp  \\\n",
       "0                            Braund, Mr. Owen Harris    male  22.0      1   \n",
       "1  Cumings, Mrs. John Bradley (Florence Briggs Th...  female  38.0      1   \n",
       "2                             Heikkinen, Miss. Laina  female  26.0      0   \n",
       "3       Futrelle, Mrs. Jacques Heath (Lily May Peel)  female  35.0      1   \n",
       "4                           Allen, Mr. William Henry    male  35.0      0   \n",
       "\n",
       "   Parch            Ticket     Fare Cabin Embarked    set  Age Interval  \n",
       "0      0         A/5 21171   7.2500   NaN        S  train           1.0  \n",
       "1      0          PC 17599  71.2833   C85        C  train           2.0  \n",
       "2      0  STON/O2. 3101282   7.9250   NaN        S  train           1.0  \n",
       "3      0            113803  53.1000  C123        S  train           2.0  \n",
       "4      0            373450   8.0500   NaN        S  train           2.0  "
      ]
     },
     "execution_count": 32,
     "metadata": {},
     "output_type": "execute_result"
    }
   ],
   "source": [
    "all_df.head()"
   ]
  },
  {
   "cell_type": "code",
   "execution_count": null,
   "id": "a9eed6de",
   "metadata": {
    "execution": {
     "iopub.execute_input": "2023-04-09T13:32:53.857101Z",
     "iopub.status.busy": "2023-04-09T13:32:53.856605Z",
     "iopub.status.idle": "2023-04-09T13:32:54.064894Z",
     "shell.execute_reply": "2023-04-09T13:32:54.063559Z"
    },
    "papermill": {
     "duration": 0.254066,
     "end_time": "2023-04-09T13:32:54.068054",
     "exception": false,
     "start_time": "2023-04-09T13:32:53.813988",
     "status": "completed"
    },
    "tags": []
   },
   "outputs": [],
   "source": [
    "# Plot count pairs using all_df for the column \"Age Interval\" and use \"Survived\" as hue."
   ]
  },
  {
   "cell_type": "markdown",
   "id": "ef0f76d4",
   "metadata": {
    "papermill": {
     "duration": 0.040927,
     "end_time": "2023-04-09T13:32:54.149697",
     "exception": false,
     "start_time": "2023-04-09T13:32:54.108770",
     "status": "completed"
    },
    "tags": []
   },
   "source": [
    "## Fare interval"
   ]
  },
  {
   "cell_type": "code",
   "execution_count": 48,
   "id": "9a006b8f",
   "metadata": {
    "execution": {
     "iopub.execute_input": "2023-04-09T13:32:54.234868Z",
     "iopub.status.busy": "2023-04-09T13:32:54.233763Z",
     "iopub.status.idle": "2023-04-09T13:32:54.245013Z",
     "shell.execute_reply": "2023-04-09T13:32:54.243861Z"
    },
    "papermill": {
     "duration": 0.056119,
     "end_time": "2023-04-09T13:32:54.247557",
     "exception": false,
     "start_time": "2023-04-09T13:32:54.191438",
     "status": "completed"
    },
    "tags": []
   },
   "outputs": [],
   "source": [
    "# TODO: turn into function\n",
    "def assign_fare_interval(df):\n",
    "    df['Fare Interval'] = 0.0\n",
    "    df.loc[df['Fare'] <= 7.91, 'Fare Interval'] = 0\n",
    "    df.loc[(df['Fare'] > 7.91) & (df['Fare'] <= 14.454), 'Fare Interval'] = 1\n",
    "    df.loc[(df['Fare'] > 14.454) & (df['Fare'] <= 31), 'Fare Interval'] = 2\n",
    "    df.loc[df['Fare'] > 31, 'Fare Interval'] = 3\n",
    "\n",
    "    return df\n",
    "all_df = assign_fare_interval(all_df)"
   ]
  },
  {
   "cell_type": "code",
   "execution_count": 34,
   "id": "650276ee",
   "metadata": {
    "execution": {
     "iopub.execute_input": "2023-04-09T13:32:54.332150Z",
     "iopub.status.busy": "2023-04-09T13:32:54.331087Z",
     "iopub.status.idle": "2023-04-09T13:32:54.342077Z",
     "shell.execute_reply": "2023-04-09T13:32:54.340822Z"
    },
    "papermill": {
     "duration": 0.05683,
     "end_time": "2023-04-09T13:32:54.345078",
     "exception": false,
     "start_time": "2023-04-09T13:32:54.288248",
     "status": "completed"
    },
    "tags": []
   },
   "outputs": [],
   "source": [
    "# TODO: turn into function\n",
    "def train_df(df):\n",
    "   train_df = assign_fare_interval(train_df)\n",
    "   return df"
   ]
  },
  {
   "cell_type": "code",
   "execution_count": null,
   "id": "8366baba",
   "metadata": {
    "execution": {
     "iopub.execute_input": "2023-04-09T13:32:54.430960Z",
     "iopub.status.busy": "2023-04-09T13:32:54.430168Z",
     "iopub.status.idle": "2023-04-09T13:32:54.610581Z",
     "shell.execute_reply": "2023-04-09T13:32:54.609578Z"
    },
    "papermill": {
     "duration": 0.226435,
     "end_time": "2023-04-09T13:32:54.613085",
     "exception": false,
     "start_time": "2023-04-09T13:32:54.386650",
     "status": "completed"
    },
    "tags": []
   },
   "outputs": [],
   "source": [
    "# Plot count pairs using all_df for the column \"Fare Interval\""
   ]
  },
  {
   "cell_type": "markdown",
   "id": "0bbc5973",
   "metadata": {
    "papermill": {
     "duration": 0.041281,
     "end_time": "2023-04-09T13:32:54.696212",
     "exception": false,
     "start_time": "2023-04-09T13:32:54.654931",
     "status": "completed"
    },
    "tags": []
   },
   "source": [
    "Let's create a composed feature: Pclass + Sex."
   ]
  },
  {
   "cell_type": "code",
   "execution_count": 35,
   "id": "dde69195",
   "metadata": {
    "execution": {
     "iopub.execute_input": "2023-04-09T13:32:54.782311Z",
     "iopub.status.busy": "2023-04-09T13:32:54.781868Z",
     "iopub.status.idle": "2023-04-09T13:32:54.807048Z",
     "shell.execute_reply": "2023-04-09T13:32:54.805726Z"
    },
    "papermill": {
     "duration": 0.071099,
     "end_time": "2023-04-09T13:32:54.809961",
     "exception": false,
     "start_time": "2023-04-09T13:32:54.738862",
     "status": "completed"
    },
    "tags": []
   },
   "outputs": [],
   "source": [
    "# TODO: turn into function\n",
    "def create_sex_pclass_column(df):\n",
    "    df[\"Sex_Pclass\"] = df.apply(lambda row: row['Sex'][0].upper() + \"_C\" + str(row[\"Pclass\"]), axis=1)\n",
    "    return df\n"
   ]
  },
  {
   "cell_type": "code",
   "execution_count": 36,
   "id": "fd550332",
   "metadata": {
    "execution": {
     "iopub.execute_input": "2023-04-09T13:32:54.895821Z",
     "iopub.status.busy": "2023-04-09T13:32:54.895374Z",
     "iopub.status.idle": "2023-04-09T13:32:54.924406Z",
     "shell.execute_reply": "2023-04-09T13:32:54.923166Z"
    },
    "papermill": {
     "duration": 0.076071,
     "end_time": "2023-04-09T13:32:54.927112",
     "exception": false,
     "start_time": "2023-04-09T13:32:54.851041",
     "status": "completed"
    },
    "tags": []
   },
   "outputs": [],
   "source": [
    "# TODO: turn into function\n",
    "def process_all_df(df):\n",
    "    process_all_df = create_sex_pclass_column(all_df)\n",
    "    return df"
   ]
  },
  {
   "cell_type": "code",
   "execution_count": null,
   "id": "2f63ef42",
   "metadata": {
    "execution": {
     "iopub.execute_input": "2023-04-09T13:32:55.012451Z",
     "iopub.status.busy": "2023-04-09T13:32:55.012004Z",
     "iopub.status.idle": "2023-04-09T13:32:55.269357Z",
     "shell.execute_reply": "2023-04-09T13:32:55.268465Z"
    },
    "papermill": {
     "duration": 0.302947,
     "end_time": "2023-04-09T13:32:55.271868",
     "exception": false,
     "start_time": "2023-04-09T13:32:54.968921",
     "status": "completed"
    },
    "tags": []
   },
   "outputs": [],
   "source": [
    "# Plot count pairs using all_df for the column \"Fare Interval\" and \"Fare (grouped by survival)\" with \"Survived\" as hue"
   ]
  },
  {
   "cell_type": "markdown",
   "id": "3a78a93b",
   "metadata": {
    "papermill": {
     "duration": 0.043148,
     "end_time": "2023-04-09T13:32:56.548549",
     "exception": false,
     "start_time": "2023-04-09T13:32:56.505401",
     "status": "completed"
    },
    "tags": []
   },
   "source": [
    "## Process names\n",
    "\n",
    "\n",
    "When we process names, we would like to extract the following information:\n",
    "\n",
    "- Family name - this is the first word (or few first words, if a family name with multiple names), followed by a comma  \n",
    "- Title - this follows just after the comma   \n",
    "- Given name - this is the word or group of words following family name  \n",
    "- Maiden name - for ladies, is given between parantheses  \n",
    "\n",
    "We start with creating a function that parses the Name string and extract (if possible) these 4 elements\n"
   ]
  },
  {
   "cell_type": "code",
   "execution_count": 37,
   "id": "037ae626",
   "metadata": {
    "execution": {
     "iopub.execute_input": "2023-04-09T13:32:56.638681Z",
     "iopub.status.busy": "2023-04-09T13:32:56.637779Z",
     "iopub.status.idle": "2023-04-09T13:32:56.646591Z",
     "shell.execute_reply": "2023-04-09T13:32:56.645693Z"
    },
    "papermill": {
     "duration": 0.056439,
     "end_time": "2023-04-09T13:32:56.649198",
     "exception": false,
     "start_time": "2023-04-09T13:32:56.592759",
     "status": "completed"
    },
    "tags": []
   },
   "outputs": [],
   "source": [
    "# TODO: also move this function to a separate file\n",
    "def parse_names(row):\n",
    "    try:\n",
    "        text = row[\"Name\"]\n",
    "        split_text = text.split(\",\")\n",
    "        family_name = split_text[0]\n",
    "        next_text = split_text[1]\n",
    "        split_text = next_text.split(\".\")\n",
    "        title = (split_text[0] + \".\").lstrip().rstrip()\n",
    "        next_text = split_text[1]\n",
    "        if \"(\" in next_text:\n",
    "            split_text = next_text.split(\"(\")\n",
    "            given_name = split_text[0]\n",
    "            maiden_name = split_text[1].rstrip(\")\")\n",
    "            return pd.Series([family_name, title, given_name, maiden_name])\n",
    "        else:\n",
    "            given_name = next_text\n",
    "            return pd.Series([family_name, title, given_name, None])\n",
    "    except Exception as ex:\n",
    "        print(f\"Exception: {ex}\")\n",
    "    \n",
    "    "
   ]
  },
  {
   "cell_type": "code",
   "execution_count": 38,
   "id": "7205ec96",
   "metadata": {
    "execution": {
     "iopub.execute_input": "2023-04-09T13:32:56.738979Z",
     "iopub.status.busy": "2023-04-09T13:32:56.738089Z",
     "iopub.status.idle": "2023-04-09T13:32:57.144625Z",
     "shell.execute_reply": "2023-04-09T13:32:57.143365Z"
    },
    "papermill": {
     "duration": 0.455038,
     "end_time": "2023-04-09T13:32:57.147656",
     "exception": false,
     "start_time": "2023-04-09T13:32:56.692618",
     "status": "completed"
    },
    "tags": []
   },
   "outputs": [],
   "source": [
    "# TODO: turn into function\n",
    "def apply_name_parsing(df):\n",
    "    df[[\"Family Name\", \"Title\", \"Given Name\", \"Maiden Name\"]] = df.apply(lambda row: parse_names(row), axis=1)\n",
    "    return df\n"
   ]
  },
  {
   "cell_type": "code",
   "execution_count": 39,
   "id": "e19eab27",
   "metadata": {
    "execution": {
     "iopub.execute_input": "2023-04-09T13:32:57.236073Z",
     "iopub.status.busy": "2023-04-09T13:32:57.235614Z",
     "iopub.status.idle": "2023-04-09T13:32:57.407505Z",
     "shell.execute_reply": "2023-04-09T13:32:57.406264Z"
    },
    "papermill": {
     "duration": 0.219965,
     "end_time": "2023-04-09T13:32:57.410708",
     "exception": false,
     "start_time": "2023-04-09T13:32:57.190743",
     "status": "completed"
    },
    "tags": []
   },
   "outputs": [],
   "source": [
    "# TODO: turn into function\n",
    "def train_df(df):\n",
    "    df[[\"Family Name\", \"Title\", \"Given Name\", \"Maiden Name\"]] = df.apply(lambda row: parse_names(row), axis=1)\n",
    "    return df"
   ]
  },
  {
   "cell_type": "markdown",
   "id": "a66ebda5",
   "metadata": {
    "papermill": {
     "duration": 0.086205,
     "end_time": "2023-04-09T13:33:04.669504",
     "exception": false,
     "start_time": "2023-04-09T13:33:04.583299",
     "status": "completed"
    },
    "tags": []
   },
   "source": [
    "## Multivariate analysis\n",
    "\n",
    "\n",
    "Let's look now to the interaction of multiple features."
   ]
  },
  {
   "cell_type": "code",
   "execution_count": 49,
   "id": "c6f99b7f",
   "metadata": {
    "execution": {
     "iopub.execute_input": "2023-04-09T13:33:05.296837Z",
     "iopub.status.busy": "2023-04-09T13:33:05.295977Z",
     "iopub.status.idle": "2023-04-09T13:33:05.576799Z",
     "shell.execute_reply": "2023-04-09T13:33:05.575541Z"
    },
    "papermill": {
     "duration": 0.370555,
     "end_time": "2023-04-09T13:33:05.579497",
     "exception": false,
     "start_time": "2023-04-09T13:33:05.208942",
     "status": "completed"
    },
    "tags": []
   },
   "outputs": [
    {
     "data": {
      "image/png": "[encoded data removed]",
      "text/plain": [
       "<Figure size 800x600 with 1 Axes>"
      ]
     },
     "metadata": {},
     "output_type": "display_data"
    }
   ],
   "source": [
    "# TODO: Plot count pairs of \"Age Interval\" grouped by \"Pclass\"\n",
    "plt.figure(figsize=(8, 6))\n",
    "sns.countplot(data=all_df, x=\"Age Interval\", hue=\"Pclass\")\n",
    "plt.title('Count of Age Interval grouped by Pclass')\n",
    "plt.xlabel('Age Interval')\n",
    "plt.ylabel('Count')\n",
    "plt.legend(title='Pclass')\n",
    "plt.show()"
   ]
  },
  {
   "cell_type": "code",
   "execution_count": 50,
   "id": "edd4521f",
   "metadata": {
    "execution": {
     "iopub.execute_input": "2023-04-09T13:33:06.183187Z",
     "iopub.status.busy": "2023-04-09T13:33:06.182486Z",
     "iopub.status.idle": "2023-04-09T13:33:06.473029Z",
     "shell.execute_reply": "2023-04-09T13:33:06.472178Z"
    },
    "papermill": {
     "duration": 0.382551,
     "end_time": "2023-04-09T13:33:06.475270",
     "exception": false,
     "start_time": "2023-04-09T13:33:06.092719",
     "status": "completed"
    },
    "tags": []
   },
   "outputs": [
    {
     "data": {
      "image/png": "[encoded data removed]",
      "text/plain": [
       "<Figure size 800x600 with 1 Axes>"
      ]
     },
     "metadata": {},
     "output_type": "display_data"
    }
   ],
   "source": [
    "# TODO: Plot count pairs of \"Age Interval\" grouped by \"Embarked\"\n",
    "plt.figure(figsize=(8, 6))\n",
    "sns.countplot(data=all_df, x=\"Age Interval\", hue=\"Embarked\")\n",
    "plt.title('Count of Age Interval grouped by Embarked')\n",
    "plt.xlabel('Age Interval')\n",
    "plt.ylabel('Count')\n",
    "plt.legend(title='Embarked')\n",
    "plt.show()"
   ]
  },
  {
   "cell_type": "code",
   "execution_count": 51,
   "id": "2ed6af14",
   "metadata": {
    "execution": {
     "iopub.execute_input": "2023-04-09T13:33:06.653514Z",
     "iopub.status.busy": "2023-04-09T13:33:06.652512Z",
     "iopub.status.idle": "2023-04-09T13:33:06.921452Z",
     "shell.execute_reply": "2023-04-09T13:33:06.920271Z"
    },
    "papermill": {
     "duration": 0.36104,
     "end_time": "2023-04-09T13:33:06.924241",
     "exception": false,
     "start_time": "2023-04-09T13:33:06.563201",
     "status": "completed"
    },
    "tags": []
   },
   "outputs": [
    {
     "data": {
      "image/png": "[encoded data removed]",
      "text/plain": [
       "<Figure size 800x600 with 1 Axes>"
      ]
     },
     "metadata": {},
     "output_type": "display_data"
    }
   ],
   "source": [
    "# TODO: Plot count pairs of \"Pclass\" grouped by \"Fare Interval\"\n",
    "plt.figure(figsize=(8, 6))\n",
    "sns.countplot(data=all_df, x=\"Pclass\", hue=\"Fare\")\n",
    "plt.title('Count of Pclass grouped by Fare')\n",
    "plt.xlabel('Pclass')\n",
    "plt.ylabel('Count')\n",
    "plt.legend(title='Fare')\n",
    "plt.show()"
   ]
  },
  {
   "cell_type": "markdown",
   "id": "24e6cfde",
   "metadata": {
    "papermill": {
     "duration": 0.094321,
     "end_time": "2023-04-09T13:33:12.087427",
     "exception": false,
     "start_time": "2023-04-09T13:33:11.993106",
     "status": "completed"
    },
    "tags": []
   },
   "source": [
    "### Few more engineered data \n",
    "\n",
    "\n",
    "Let's create two more engineered features:  \n",
    "* Family size interval: Single, Small, Large  \n",
    "* Aggregated titles: Mr, Mrs, Master, Miss, and Rare  "
   ]
  },
  {
   "cell_type": "code",
   "execution_count": 40,
   "id": "8750f33a",
   "metadata": {
    "execution": {
     "iopub.execute_input": "2023-04-09T13:33:12.286324Z",
     "iopub.status.busy": "2023-04-09T13:33:12.285408Z",
     "iopub.status.idle": "2023-04-09T13:33:12.292210Z",
     "shell.execute_reply": "2023-04-09T13:33:12.291252Z"
    },
    "papermill": {
     "duration": 0.108468,
     "end_time": "2023-04-09T13:33:12.294946",
     "exception": false,
     "start_time": "2023-04-09T13:33:12.186478",
     "status": "completed"
    },
    "tags": []
   },
   "outputs": [],
   "source": [
    "# TODO: turn into function\n",
    "def add_family_type(datasets):\n",
    "    # Iterate over the list of datasets and create the \"Family Type\" column\n",
    "    for dataset in datasets:\n",
    "        dataset[\"Family Type\"] = dataset[\"Family Size\"]\n",
    "    return datasets"
   ]
  },
  {
   "cell_type": "code",
   "execution_count": 41,
   "id": "084b0171",
   "metadata": {
    "execution": {
     "iopub.execute_input": "2023-04-09T13:33:12.491821Z",
     "iopub.status.busy": "2023-04-09T13:33:12.490955Z",
     "iopub.status.idle": "2023-04-09T13:33:12.503269Z",
     "shell.execute_reply": "2023-04-09T13:33:12.502125Z"
    },
    "papermill": {
     "duration": 0.113944,
     "end_time": "2023-04-09T13:33:12.505983",
     "exception": false,
     "start_time": "2023-04-09T13:33:12.392039",
     "status": "completed"
    },
    "tags": []
   },
   "outputs": [],
   "source": [
    "# TODO: turn into function\n",
    "def classify_family_type(all_df, train_df):\n",
    "    for dataset in [all_df, train_df]:\n",
    "        dataset.loc[dataset[\"Family Size\"] == 1, \"Family Type\"] = \"Single\"\n",
    "        dataset.loc[(dataset[\"Family Size\"] > 1) & (dataset[\"Family Size\"] < 5), \"Family Type\"] = \"Small\"\n",
    "        dataset.loc[dataset[\"Family Size\"] >= 5, \"Family Type\"] = \"Large\"\n",
    "    return dataset\n"
   ]
  },
  {
   "cell_type": "code",
   "execution_count": null,
   "id": "e24ae982",
   "metadata": {
    "execution": {
     "iopub.execute_input": "2023-04-09T13:33:12.699667Z",
     "iopub.status.busy": "2023-04-09T13:33:12.699264Z",
     "iopub.status.idle": "2023-04-09T13:33:12.705377Z",
     "shell.execute_reply": "2023-04-09T13:33:12.704166Z"
    },
    "papermill": {
     "duration": 0.105912,
     "end_time": "2023-04-09T13:33:12.707971",
     "exception": false,
     "start_time": "2023-04-09T13:33:12.602059",
     "status": "completed"
    },
    "tags": []
   },
   "outputs": [],
   "source": [
    "for dataset in [all_df, train_df]:\n",
    "    dataset[\"Titles\"] = dataset[\"Title\"]"
   ]
  },
  {
   "cell_type": "code",
   "execution_count": 43,
   "id": "fc8828dd",
   "metadata": {
    "execution": {
     "iopub.execute_input": "2023-04-09T13:33:12.901887Z",
     "iopub.status.busy": "2023-04-09T13:33:12.901436Z",
     "iopub.status.idle": "2023-04-09T13:33:12.916334Z",
     "shell.execute_reply": "2023-04-09T13:33:12.915297Z"
    },
    "papermill": {
     "duration": 0.115339,
     "end_time": "2023-04-09T13:33:12.918779",
     "exception": false,
     "start_time": "2023-04-09T13:33:12.803440",
     "status": "completed"
    },
    "tags": []
   },
   "outputs": [],
   "source": [
    "# TODO: turn into function\n",
    "def unify_titles(datasets):\n",
    "    \"\"\"\n",
    "    This function standardizes the Titles column in the datasets by unifying different forms of titles.\n",
    "    It replaces specific titles with standard ones and groups rare titles under 'Rare'.\n",
    "    \"\"\"\n",
    "    for dataset in datasets:\n",
    "        # Unify `Miss`\n",
    "        dataset['Titles'] = dataset['Titles'].replace(['Mlle.', 'Ms.'], 'Miss.')\n",
    "        \n",
    "        # Unify `Mrs`\n",
    "        dataset['Titles'] = dataset['Titles'].replace('Mme.', 'Mrs.')\n",
    "        \n",
    "        # Unify rare titles\n",
    "        rare_titles = ['Lady.', 'the Countess.', 'Capt.', 'Col.', 'Don.', 'Dr.', \n",
    "                       'Major.', 'Rev.', 'Sir.', 'Jonkheer.', 'Dona.']\n",
    "        dataset['Titles'] = dataset['Titles'].replace(rare_titles, 'Rare')\n",
    "    \n",
    "    return datasets\n"
   ]
  },
  {
   "cell_type": "code",
   "execution_count": 44,
   "id": "086e07cc",
   "metadata": {
    "execution": {
     "iopub.execute_input": "2023-04-09T13:33:13.120113Z",
     "iopub.status.busy": "2023-04-09T13:33:13.118894Z",
     "iopub.status.idle": "2023-04-09T13:33:13.136189Z",
     "shell.execute_reply": "2023-04-09T13:33:13.135227Z"
    },
    "papermill": {
     "duration": 0.120346,
     "end_time": "2023-04-09T13:33:13.138472",
     "exception": false,
     "start_time": "2023-04-09T13:33:13.018126",
     "status": "completed"
    },
    "tags": []
   },
   "outputs": [],
   "source": [
    "# TODO: turn into function\n",
    "def calculate_mean_survival(df):\n",
    "    return df[['Titles', 'Sex', 'Survived']].groupby(['Titles', 'Sex'], as_index=False).mean()\n"
   ]
  },
  {
   "cell_type": "markdown",
   "id": "fec7c474",
   "metadata": {
    "papermill": {
     "duration": 0.10356,
     "end_time": "2023-04-09T13:33:15.043186",
     "exception": false,
     "start_time": "2023-04-09T13:33:14.939626",
     "status": "completed"
    },
    "tags": []
   },
   "source": [
    "# Baseline model"
   ]
  },
  {
   "cell_type": "markdown",
   "id": "864616e1",
   "metadata": {
    "papermill": {
     "duration": 0.10099,
     "end_time": "2023-04-09T13:33:16.010380",
     "exception": false,
     "start_time": "2023-04-09T13:33:15.909390",
     "status": "completed"
    },
    "tags": []
   },
   "source": [
    "## Feature engineering: Map categorical value to numerical values"
   ]
  },
  {
   "cell_type": "code",
   "execution_count": 98,
   "id": "4d8a725d",
   "metadata": {
    "execution": {
     "iopub.execute_input": "2023-04-09T13:33:16.211769Z",
     "iopub.status.busy": "2023-04-09T13:33:16.211320Z",
     "iopub.status.idle": "2023-04-09T13:33:16.220279Z",
     "shell.execute_reply": "2023-04-09T13:33:16.219412Z"
    },
    "papermill": {
     "duration": 0.113535,
     "end_time": "2023-04-09T13:33:16.222534",
     "exception": false,
     "start_time": "2023-04-09T13:33:16.108999",
     "status": "completed"
    },
    "tags": []
   },
   "outputs": [],
   "source": [
    "# TODO: turn into function\n",
    "for dataset in [train_df, test_df]:\n",
    "    dataset['Sex'] = dataset['Sex'].map( {'female': 1, 'male': 0} ).astype(int)"
   ]
  },
  {
   "cell_type": "markdown",
   "id": "6635df80",
   "metadata": {
    "papermill": {
     "duration": 0.101154,
     "end_time": "2023-04-09T13:33:16.423406",
     "exception": false,
     "start_time": "2023-04-09T13:33:16.322252",
     "status": "completed"
    },
    "tags": []
   },
   "source": [
    "Create train-validation split."
   ]
  },
  {
   "cell_type": "code",
   "execution_count": 99,
   "id": "328c85e2",
   "metadata": {
    "execution": {
     "iopub.execute_input": "2023-04-09T13:33:16.632663Z",
     "iopub.status.busy": "2023-04-09T13:33:16.631240Z",
     "iopub.status.idle": "2023-04-09T13:33:16.640631Z",
     "shell.execute_reply": "2023-04-09T13:33:16.639695Z"
    },
    "papermill": {
     "duration": 0.116133,
     "end_time": "2023-04-09T13:33:16.643139",
     "exception": false,
     "start_time": "2023-04-09T13:33:16.527006",
     "status": "completed"
    },
    "tags": []
   },
   "outputs": [],
   "source": [
    "VALID_SIZE = 0.2\n",
    "train, valid = train_test_split(train_df, test_size=VALID_SIZE, random_state=42, shuffle=True)"
   ]
  },
  {
   "cell_type": "markdown",
   "id": "7d7756ef",
   "metadata": {
    "papermill": {
     "duration": 0.0982,
     "end_time": "2023-04-09T13:33:16.839581",
     "exception": false,
     "start_time": "2023-04-09T13:33:16.741381",
     "status": "completed"
    },
    "tags": []
   },
   "source": [
    "Define predictor features and target feature."
   ]
  },
  {
   "cell_type": "code",
   "execution_count": 100,
   "id": "eb90547e",
   "metadata": {
    "execution": {
     "iopub.execute_input": "2023-04-09T13:33:17.044342Z",
     "iopub.status.busy": "2023-04-09T13:33:17.043685Z",
     "iopub.status.idle": "2023-04-09T13:33:17.049206Z",
     "shell.execute_reply": "2023-04-09T13:33:17.048067Z"
    },
    "papermill": {
     "duration": 0.11164,
     "end_time": "2023-04-09T13:33:17.051579",
     "exception": false,
     "start_time": "2023-04-09T13:33:16.939939",
     "status": "completed"
    },
    "tags": []
   },
   "outputs": [],
   "source": [
    "predictors = [\"Sex\", \"Pclass\"]\n",
    "target = 'Survived'"
   ]
  },
  {
   "cell_type": "markdown",
   "id": "c0b02c9f",
   "metadata": {
    "papermill": {
     "duration": 0.099538,
     "end_time": "2023-04-09T13:33:17.252933",
     "exception": false,
     "start_time": "2023-04-09T13:33:17.153395",
     "status": "completed"
    },
    "tags": []
   },
   "source": [
    "Define the training and validation data and labels."
   ]
  },
  {
   "cell_type": "code",
   "execution_count": 101,
   "id": "1f8b2807",
   "metadata": {
    "execution": {
     "iopub.execute_input": "2023-04-09T13:33:17.456588Z",
     "iopub.status.busy": "2023-04-09T13:33:17.455330Z",
     "iopub.status.idle": "2023-04-09T13:33:17.463172Z",
     "shell.execute_reply": "2023-04-09T13:33:17.462210Z"
    },
    "papermill": {
     "duration": 0.113017,
     "end_time": "2023-04-09T13:33:17.465660",
     "exception": false,
     "start_time": "2023-04-09T13:33:17.352643",
     "status": "completed"
    },
    "tags": []
   },
   "outputs": [],
   "source": [
    "# TODO: turn into function\n",
    "train_X = train[predictors]\n",
    "train_Y = train[target].values\n",
    "valid_X = valid[predictors]\n",
    "valid_Y = valid[target].values"
   ]
  },
  {
   "cell_type": "markdown",
   "id": "6ee2d827",
   "metadata": {
    "papermill": {
     "duration": 0.098654,
     "end_time": "2023-04-09T13:33:17.664113",
     "exception": false,
     "start_time": "2023-04-09T13:33:17.565459",
     "status": "completed"
    },
    "tags": []
   },
   "source": [
    "Initialize the classifiction algorithm."
   ]
  },
  {
   "cell_type": "code",
   "execution_count": 102,
   "id": "f9324151",
   "metadata": {
    "execution": {
     "iopub.execute_input": "2023-04-09T13:33:17.865542Z",
     "iopub.status.busy": "2023-04-09T13:33:17.864275Z",
     "iopub.status.idle": "2023-04-09T13:33:17.870039Z",
     "shell.execute_reply": "2023-04-09T13:33:17.869160Z"
    },
    "papermill": {
     "duration": 0.109141,
     "end_time": "2023-04-09T13:33:17.872379",
     "exception": false,
     "start_time": "2023-04-09T13:33:17.763238",
     "status": "completed"
    },
    "tags": []
   },
   "outputs": [],
   "source": [
    "# TODO: could this and the following code cells be turned into a function that returns the prediction?\n",
    "clf = RandomForestClassifier(n_jobs=-1, \n",
    "                             random_state=42,\n",
    "                             criterion=\"gini\",\n",
    "                             n_estimators=100,\n",
    "                             verbose=False)"
   ]
  },
  {
   "cell_type": "markdown",
   "id": "642506e1",
   "metadata": {
    "papermill": {
     "duration": 0.099258,
     "end_time": "2023-04-09T13:33:18.070446",
     "exception": false,
     "start_time": "2023-04-09T13:33:17.971188",
     "status": "completed"
    },
    "tags": []
   },
   "source": [
    "Fit the classifier with the training data."
   ]
  },
  {
   "cell_type": "code",
   "execution_count": null,
   "id": "e1d8e0e4",
   "metadata": {
    "execution": {
     "iopub.execute_input": "2023-04-09T13:33:18.277424Z",
     "iopub.status.busy": "2023-04-09T13:33:18.276277Z",
     "iopub.status.idle": "2023-04-09T13:33:18.539778Z",
     "shell.execute_reply": "2023-04-09T13:33:18.538462Z"
    },
    "papermill": {
     "duration": 0.373025,
     "end_time": "2023-04-09T13:33:18.542770",
     "exception": false,
     "start_time": "2023-04-09T13:33:18.169745",
     "status": "completed"
    },
    "tags": []
   },
   "outputs": [],
   "source": [
    "clf.fit(train_X, train_Y)"
   ]
  },
  {
   "cell_type": "markdown",
   "id": "61fc9595",
   "metadata": {
    "papermill": {
     "duration": 0.10132,
     "end_time": "2023-04-09T13:33:18.747232",
     "exception": false,
     "start_time": "2023-04-09T13:33:18.645912",
     "status": "completed"
    },
    "tags": []
   },
   "source": [
    "Predict the train data (to check the training classification error)."
   ]
  },
  {
   "cell_type": "code",
   "execution_count": 104,
   "id": "9a3bbc8a",
   "metadata": {
    "execution": {
     "iopub.execute_input": "2023-04-09T13:33:18.953760Z",
     "iopub.status.busy": "2023-04-09T13:33:18.952358Z",
     "iopub.status.idle": "2023-04-09T13:33:19.062149Z",
     "shell.execute_reply": "2023-04-09T13:33:19.060880Z"
    },
    "papermill": {
     "duration": 0.21616,
     "end_time": "2023-04-09T13:33:19.065029",
     "exception": false,
     "start_time": "2023-04-09T13:33:18.848869",
     "status": "completed"
    },
    "tags": []
   },
   "outputs": [],
   "source": [
    "preds_tr = clf.predict(train_X)"
   ]
  },
  {
   "cell_type": "markdown",
   "id": "62b61af6",
   "metadata": {
    "papermill": {
     "duration": 0.099136,
     "end_time": "2023-04-09T13:33:19.263660",
     "exception": false,
     "start_time": "2023-04-09T13:33:19.164524",
     "status": "completed"
    },
    "tags": []
   },
   "source": [
    "Predict the validation data."
   ]
  },
  {
   "cell_type": "code",
   "execution_count": 105,
   "id": "fa28974c",
   "metadata": {
    "execution": {
     "iopub.execute_input": "2023-04-09T13:33:19.467958Z",
     "iopub.status.busy": "2023-04-09T13:33:19.466546Z",
     "iopub.status.idle": "2023-04-09T13:33:19.577062Z",
     "shell.execute_reply": "2023-04-09T13:33:19.575465Z"
    },
    "papermill": {
     "duration": 0.217366,
     "end_time": "2023-04-09T13:33:19.580249",
     "exception": false,
     "start_time": "2023-04-09T13:33:19.362883",
     "status": "completed"
    },
    "tags": []
   },
   "outputs": [],
   "source": [
    "preds = clf.predict(valid_X)"
   ]
  },
  {
   "cell_type": "markdown",
   "id": "d994312c",
   "metadata": {
    "papermill": {
     "duration": 0.099652,
     "end_time": "2023-04-09T13:33:19.781425",
     "exception": false,
     "start_time": "2023-04-09T13:33:19.681773",
     "status": "completed"
    },
    "tags": []
   },
   "source": [
    "# Evaluation\n",
    "\n",
    "## Classification report for training data."
   ]
  },
  {
   "cell_type": "code",
   "execution_count": null,
   "id": "62963993",
   "metadata": {
    "execution": {
     "iopub.execute_input": "2023-04-09T13:33:19.985235Z",
     "iopub.status.busy": "2023-04-09T13:33:19.983841Z",
     "iopub.status.idle": "2023-04-09T13:33:19.996204Z",
     "shell.execute_reply": "2023-04-09T13:33:19.994526Z"
    },
    "papermill": {
     "duration": 0.117754,
     "end_time": "2023-04-09T13:33:19.998936",
     "exception": false,
     "start_time": "2023-04-09T13:33:19.881182",
     "status": "completed"
    },
    "tags": []
   },
   "outputs": [],
   "source": [
    "print(metrics.classification_report(train_Y, preds_tr, target_names=['Not Survived', 'Survived']))"
   ]
  },
  {
   "cell_type": "markdown",
   "id": "18fcb4f1",
   "metadata": {
    "papermill": {
     "duration": 0.100623,
     "end_time": "2023-04-09T13:33:20.206904",
     "exception": false,
     "start_time": "2023-04-09T13:33:20.106281",
     "status": "completed"
    },
    "tags": []
   },
   "source": [
    "Classification report for validation data."
   ]
  },
  {
   "cell_type": "code",
   "execution_count": null,
   "id": "7c55f853",
   "metadata": {
    "execution": {
     "iopub.execute_input": "2023-04-09T13:33:20.409841Z",
     "iopub.status.busy": "2023-04-09T13:33:20.409379Z",
     "iopub.status.idle": "2023-04-09T13:33:20.421171Z",
     "shell.execute_reply": "2023-04-09T13:33:20.419836Z"
    },
    "papermill": {
     "duration": 0.115487,
     "end_time": "2023-04-09T13:33:20.423620",
     "exception": false,
     "start_time": "2023-04-09T13:33:20.308133",
     "status": "completed"
    },
    "tags": []
   },
   "outputs": [],
   "source": [
    "print(metrics.classification_report(valid_Y, preds, target_names=['Not Survived', 'Survived']))"
   ]
  }
 ],
 "metadata": {
  "kernelspec": {
   "display_name": "choice",
   "language": "python",
   "name": "python3"
  },
  "language_info": {
   "codemirror_mode": {
    "name": "ipython",
    "version": 3
   },
   "file_extension": ".py",
   "mimetype": "text/x-python",
   "name": "python",
   "nbconvert_exporter": "python",
   "pygments_lexer": "ipython3",
   "version": "3.9.19"
  },
  "papermill": {
   "default_parameters": {},
   "duration": 49.560621,
   "end_time": "2023-04-09T13:33:21.452362",
   "environment_variables": {},
   "exception": null,
   "input_path": "__notebook__.ipynb",
   "output_path": "__notebook__.ipynb",
   "parameters": {},
   "start_time": "2023-04-09T13:32:31.891741",
   "version": "2.4.0"
  }
 },
 "nbformat": 4,
 "nbformat_minor": 5
}
